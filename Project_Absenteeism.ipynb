{
 "cells": [
  {
   "cell_type": "markdown",
   "id": "2755fc20-2849-4abd-b95f-827a9c87ede6",
   "metadata": {},
   "source": [
    "# Analysis of Absenteeism at work"
   ]
  },
  {
   "cell_type": "markdown",
   "id": "ab17a43e-5b2c-4653-bf5f-91c83b3e7307",
   "metadata": {},
   "source": [
    "### 📑 Table of Contents\n",
    "\n",
    "1. [Overview](#-overview)\n",
    "2. [Objective](#-objective)\n",
    "3. [Data Preprocessing](#-phase-1-data-preprocessing)  \n",
    "   - [Initial Dataset Columns](#-initial-dataset-columns)  \n",
    "   - [Column Renaming](#-column-renaming)  \n",
    "   - [Reason for Absence Categorization](#-reason-for-absence-categorization)  \n",
    "   - [Handling Dates & Creating Time Features](#-handling-dates--creating-time-features)  \n",
    "   - [Final Column Reordering](#-final-column-reordering)  \n",
    "4. [Exploratory Data Analysis (EDA)](#-phase-15-exploratory-data-analysis-eda)  \n",
    "   - [Distribution of Absenteeism Time](#-distribution-of-absenteeism-time)  \n",
    "   - [Absenteeism by Reason for Absence](#-absenteeism-by-reason-for-absence)  \n",
    "   - [Absenteeism by Weekday and Month](#-absenteeism-by-weekday-and-month)  \n",
    "   - [Absenteeism by Demographics](#-absenteeism-by-demographics)  \n",
    "   - [Correlation Matrix](#-correlation-matrix)  \n",
    "5. [Logistic Regression Modeling](#-phase-2-logistic-regression-modeling)  \n",
    "   - [Target Definition](#-target-definition)  \n",
    "   - [Feature Scaling](#-feature-scaling)  \n",
    "   - [Train-Test Split](#-train-test-split)  \n",
    "   - [Model Training](#-model-training)  \n",
    "   - [Evaluation Metrics](#-evaluation-metrics)  \n",
    "6. [Deployment Preparation](#-phase-3-deployment-preparation)  \n",
    "   - [Predicted Probabilities](#-predicted-probabilities)  \n",
    "   - [Saving Model with Pickle](#-saving-model-with-pickle)  \n",
    "\n"
   ]
  },
  {
   "cell_type": "markdown",
   "id": "ab26a428-b2f0-4fa1-9cfe-e188d398f004",
   "metadata": {},
   "source": [
    "## 📌 Overview\n",
    "\n",
    "This project involves the analysis of a simplified absenteeism dataset to understand patterns that may contribute to employee absenteeism and to build a predictive model that can classify whether an employee is likely to be absent from work or not.\n",
    "\n",
    "Absenteeism has a measurable impact on productivity and workforce planning. Through this analysis, we aim to assist organizations in identifying potential risk factors that contribute to employee absence and take preemptive actions.\n",
    "\n",
    "The dataset used in this project is a **reduced version** of the [UCI Absenteeism at Work dataset](https://archive.ics.uci.edu/ml/datasets/Absenteeism+at+work) maintained by the University of California, Irvine's Machine Learning Repository. While the original dataset contains 740 entries and 21 features, we use a subset of 700 records and 12 selected attributes for focused analysis and modeling.\n",
    "\n",
    "---\n",
    "\n",
    "## 🎯 Objective\n",
    "\n",
    "The **main goal** of this project is to:\n",
    "> **Build a logistic regression model to classify whether an employee will be absent from work (i.e., Absenteeism Time > 0).**\n",
    "\n",
    "We will:\n",
    "- Convert the target column `Absenteeism Time in Hours` into a binary outcome (0 = not absent, 1 = absent).\n",
    "- Analyze the relationships between absenteeism and available predictors (age, distance, workload, etc.).\n",
    "- Prepare the features using scaling and transformations where necessary.\n",
    "- Train, evaluate, and refine a logistic regression model.\n",
    "- Save the final model and any preprocessing steps for deployment or future use.\n",
    "\n",
    "\n"
   ]
  },
  {
   "cell_type": "markdown",
   "id": "ca9ecf6b-7d63-465b-9c09-1a77caaeaf9f",
   "metadata": {},
   "source": [
    "---\n",
    "\n",
    "## 🧾 Attribute Information\n",
    "\n",
    "The original **UCI Absenteeism at Work** dataset contains 740 records and 21 features (excluding the target). Below is the full list of features:\n",
    "\n",
    "- **Individual identification (ID)**\n",
    "- **Reason for absence**  \n",
    "  *Attested by the International Code of Diseases (ICD), categorized as:*\n",
    "\n",
    "    1. Certain infectious and parasitic diseases  \n",
    "    2. Neoplasms  \n",
    "    3. Diseases of the blood and immune disorders  \n",
    "    4. Endocrine, nutritional and metabolic diseases  \n",
    "    5. Mental and behavioural disorders  \n",
    "    6. Diseases of the nervous system  \n",
    "    7. Diseases of the eye and adnexa  \n",
    "    8. Diseases of the ear and mastoid process  \n",
    "    9. Diseases of the circulatory system  \n",
    "    10. Diseases of the respiratory system  \n",
    "    11. Diseases of the digestive system  \n",
    "    12. Diseases of the skin and subcutaneous tissue  \n",
    "    13. Diseases of the musculoskeletal system and connective tissue  \n",
    "    14. Diseases of the genitourinary system  \n",
    "    15. Pregnancy, childbirth and the puerperium  \n",
    "    16. Perinatal conditions  \n",
    "    17. Congenital malformations and chromosomal abnormalities  \n",
    "    18. Abnormal clinical/lab findings not elsewhere classified  \n",
    "    19. Injury and poisoning  \n",
    "    20. External causes of morbidity and mortality  \n",
    "    21. Health service encounters\n",
    "\n",
    "     22–28: Other (follow-up, consultation, donation, etc.)\n",
    "\n",
    "- Month of absence  \n",
    "- Day of the week (2=Monday to 6=Friday)  \n",
    "- Seasons (1=summer to 4=spring)  \n",
    "- Transportation expense  \n",
    "- Distance from Residence to Work  \n",
    "- Service time  \n",
    "- Age  \n",
    "- Work load Average/day  \n",
    "- Hit target  \n",
    "- Disciplinary failure (1=yes, 0=no)  \n",
    "- Education (1=high school to 4=doctorate)  \n",
    "- Number of sons  \n",
    "- Social drinker (1=yes, 0=no)  \n",
    "- Social smoker (1=yes, 0=no)  \n",
    "- Number of pets  \n",
    "- Weight, Height, Body Mass Index  \n",
    "- **Absenteeism time in hours** *(Target)*\n",
    "\n",
    "---\n",
    "\n",
    "## 📌 Columns in Our Dataset\n",
    "\n",
    "Our dataset is a reduced version of the above, containing 12 key attributes:\n",
    "\n",
    "- `ID`\n",
    "- `Reason for Absence`\n",
    "- `Date`\n",
    "- `Transportation Expense`\n",
    "- `Distance to Work`\n",
    "- `Age`\n",
    "- `Daily Work Load Average`\n",
    "- `Body Mass Index`\n",
    "- `Education`\n",
    "- `Children`\n",
    "- `Pets`\n",
    "- `Absenteeism Time in Hours` *(Target)*\n",
    "\n",
    "This subset retains key demographic and logistical features to help predict absenteeism likelihood in a binary classification format.\n",
    "\n",
    "---\n"
   ]
  },
  {
   "cell_type": "markdown",
   "id": "00afd463-3974-4ae9-a128-c859b0a73e67",
   "metadata": {},
   "source": [
    "### 🔍 Data Preprocessing?\n",
    "\n",
    "Before we dive into modeling, it's crucial to clean and organize the data. Preprocessing ensures that the dataset is in a structured and consistent format suitable for machine learning. The main goals of preprocessing in this project include:\n",
    "\n",
    "- 🔄 **Format conversion**: Transform raw values into structured formats that can be interpreted by models (e.g., categorizing absence reasons).\n",
    "- ❓ **Missing value handling**: Identify and deal with missing or invalid entries.\n",
    "- 🧹 **Noise reduction**: Remove irrelevant or redundant features (e.g., `ID`).\n",
    "- 🧠 **Feature engineering**: Create meaningful features that better represent the underlying patterns in the data (e.g., creating binary columns from absence reasons).\n",
    "- 📏 **Standardization**: Ensure numerical features are scaled appropriately before training models.\n",
    "\n",
    "These steps help us build a robust and accurate logistic regression model in the following phases.\n"
   ]
  },
  {
   "cell_type": "code",
   "execution_count": 2,
   "id": "97b63a0d-5d1b-425d-963b-b3b2325c060b",
   "metadata": {},
   "outputs": [
    {
     "data": {
      "text/html": [
       "<div>\n",
       "<style scoped>\n",
       "    .dataframe tbody tr th:only-of-type {\n",
       "        vertical-align: middle;\n",
       "    }\n",
       "\n",
       "    .dataframe tbody tr th {\n",
       "        vertical-align: top;\n",
       "    }\n",
       "\n",
       "    .dataframe thead th {\n",
       "        text-align: right;\n",
       "    }\n",
       "</style>\n",
       "<table border=\"1\" class=\"dataframe\">\n",
       "  <thead>\n",
       "    <tr style=\"text-align: right;\">\n",
       "      <th></th>\n",
       "      <th>ID</th>\n",
       "      <th>Reason for Absence</th>\n",
       "      <th>Date</th>\n",
       "      <th>Transportation Expense</th>\n",
       "      <th>Distance to Work</th>\n",
       "      <th>Age</th>\n",
       "      <th>Daily Work Load Average</th>\n",
       "      <th>Body Mass Index</th>\n",
       "      <th>Education</th>\n",
       "      <th>Children</th>\n",
       "      <th>Pets</th>\n",
       "      <th>Absenteeism Time in Hours</th>\n",
       "    </tr>\n",
       "  </thead>\n",
       "  <tbody>\n",
       "    <tr>\n",
       "      <th>0</th>\n",
       "      <td>11</td>\n",
       "      <td>26</td>\n",
       "      <td>07/07/2015</td>\n",
       "      <td>289</td>\n",
       "      <td>36</td>\n",
       "      <td>33</td>\n",
       "      <td>239.554</td>\n",
       "      <td>30</td>\n",
       "      <td>1</td>\n",
       "      <td>2</td>\n",
       "      <td>1</td>\n",
       "      <td>4</td>\n",
       "    </tr>\n",
       "    <tr>\n",
       "      <th>1</th>\n",
       "      <td>36</td>\n",
       "      <td>0</td>\n",
       "      <td>14/07/2015</td>\n",
       "      <td>118</td>\n",
       "      <td>13</td>\n",
       "      <td>50</td>\n",
       "      <td>239.554</td>\n",
       "      <td>31</td>\n",
       "      <td>1</td>\n",
       "      <td>1</td>\n",
       "      <td>0</td>\n",
       "      <td>0</td>\n",
       "    </tr>\n",
       "    <tr>\n",
       "      <th>2</th>\n",
       "      <td>3</td>\n",
       "      <td>23</td>\n",
       "      <td>15/07/2015</td>\n",
       "      <td>179</td>\n",
       "      <td>51</td>\n",
       "      <td>38</td>\n",
       "      <td>239.554</td>\n",
       "      <td>31</td>\n",
       "      <td>1</td>\n",
       "      <td>0</td>\n",
       "      <td>0</td>\n",
       "      <td>2</td>\n",
       "    </tr>\n",
       "    <tr>\n",
       "      <th>3</th>\n",
       "      <td>7</td>\n",
       "      <td>7</td>\n",
       "      <td>16/07/2015</td>\n",
       "      <td>279</td>\n",
       "      <td>5</td>\n",
       "      <td>39</td>\n",
       "      <td>239.554</td>\n",
       "      <td>24</td>\n",
       "      <td>1</td>\n",
       "      <td>2</td>\n",
       "      <td>0</td>\n",
       "      <td>4</td>\n",
       "    </tr>\n",
       "    <tr>\n",
       "      <th>4</th>\n",
       "      <td>11</td>\n",
       "      <td>23</td>\n",
       "      <td>23/07/2015</td>\n",
       "      <td>289</td>\n",
       "      <td>36</td>\n",
       "      <td>33</td>\n",
       "      <td>239.554</td>\n",
       "      <td>30</td>\n",
       "      <td>1</td>\n",
       "      <td>2</td>\n",
       "      <td>1</td>\n",
       "      <td>2</td>\n",
       "    </tr>\n",
       "  </tbody>\n",
       "</table>\n",
       "</div>"
      ],
      "text/plain": [
       "   ID  Reason for Absence        Date  Transportation Expense  \\\n",
       "0  11                  26  07/07/2015                     289   \n",
       "1  36                   0  14/07/2015                     118   \n",
       "2   3                  23  15/07/2015                     179   \n",
       "3   7                   7  16/07/2015                     279   \n",
       "4  11                  23  23/07/2015                     289   \n",
       "\n",
       "   Distance to Work  Age  Daily Work Load Average  Body Mass Index  Education  \\\n",
       "0                36   33                  239.554               30          1   \n",
       "1                13   50                  239.554               31          1   \n",
       "2                51   38                  239.554               31          1   \n",
       "3                 5   39                  239.554               24          1   \n",
       "4                36   33                  239.554               30          1   \n",
       "\n",
       "   Children  Pets  Absenteeism Time in Hours  \n",
       "0         2     1                          4  \n",
       "1         1     0                          0  \n",
       "2         0     0                          2  \n",
       "3         2     0                          4  \n",
       "4         2     1                          2  "
      ]
     },
     "execution_count": 2,
     "metadata": {},
     "output_type": "execute_result"
    }
   ],
   "source": [
    "\n",
    "# Phase 1: Data Preprocessing\n",
    "\n",
    "import pandas as pd\n",
    "import numpy as np\n",
    "\n",
    "# plotting\n",
    "import matplotlib.pyplot as plt\n",
    "import seaborn as sns\n",
    "\n",
    "\n",
    "# Load data\n",
    "df = pd.read_csv(\"Absenteeism_data.csv\")\n",
    "df.head()\n"
   ]
  },
  {
   "cell_type": "code",
   "execution_count": 3,
   "id": "5a134790-70ff-4ca8-98de-b729416cd677",
   "metadata": {},
   "outputs": [
    {
     "name": "stdout",
     "output_type": "stream",
     "text": [
      "<class 'pandas.core.frame.DataFrame'>\n",
      "RangeIndex: 700 entries, 0 to 699\n",
      "Data columns (total 12 columns):\n",
      " #   Column                     Non-Null Count  Dtype  \n",
      "---  ------                     --------------  -----  \n",
      " 0   ID                         700 non-null    int64  \n",
      " 1   Reason for Absence         700 non-null    int64  \n",
      " 2   Date                       700 non-null    object \n",
      " 3   Transportation Expense     700 non-null    int64  \n",
      " 4   Distance to Work           700 non-null    int64  \n",
      " 5   Age                        700 non-null    int64  \n",
      " 6   Daily Work Load Average    700 non-null    float64\n",
      " 7   Body Mass Index            700 non-null    int64  \n",
      " 8   Education                  700 non-null    int64  \n",
      " 9   Children                   700 non-null    int64  \n",
      " 10  Pets                       700 non-null    int64  \n",
      " 11  Absenteeism Time in Hours  700 non-null    int64  \n",
      "dtypes: float64(1), int64(10), object(1)\n",
      "memory usage: 65.8+ KB\n"
     ]
    }
   ],
   "source": [
    "df.info()"
   ]
  },
  {
   "cell_type": "code",
   "execution_count": 4,
   "id": "16535bc5-7693-4ca5-b2a0-06e6b2943d06",
   "metadata": {},
   "outputs": [],
   "source": [
    "df['Date'] = pd.to_datetime(df['Date'], format = '%d/%m/%Y')\n",
    "df['Month of absence'] = df['Date'].dt.month\n",
    "df['Day of the week'] = df['Date'].dt.weekday + 1  # Monday=1, Sunday=7"
   ]
  },
  {
   "cell_type": "code",
   "execution_count": 5,
   "id": "6aceee75-8856-446f-abb1-66ff9bc761a0",
   "metadata": {},
   "outputs": [
    {
     "data": {
      "text/html": [
       "<div>\n",
       "<style scoped>\n",
       "    .dataframe tbody tr th:only-of-type {\n",
       "        vertical-align: middle;\n",
       "    }\n",
       "\n",
       "    .dataframe tbody tr th {\n",
       "        vertical-align: top;\n",
       "    }\n",
       "\n",
       "    .dataframe thead th {\n",
       "        text-align: right;\n",
       "    }\n",
       "</style>\n",
       "<table border=\"1\" class=\"dataframe\">\n",
       "  <thead>\n",
       "    <tr style=\"text-align: right;\">\n",
       "      <th></th>\n",
       "      <th>ID</th>\n",
       "      <th>Reason for Absence</th>\n",
       "      <th>Date</th>\n",
       "      <th>Transportation Expense</th>\n",
       "      <th>Distance to Work</th>\n",
       "      <th>Age</th>\n",
       "      <th>Daily Work Load Average</th>\n",
       "      <th>Body Mass Index</th>\n",
       "      <th>Education</th>\n",
       "      <th>Children</th>\n",
       "      <th>Pets</th>\n",
       "      <th>Absenteeism Time in Hours</th>\n",
       "      <th>Month of absence</th>\n",
       "      <th>Day of the week</th>\n",
       "    </tr>\n",
       "  </thead>\n",
       "  <tbody>\n",
       "    <tr>\n",
       "      <th>0</th>\n",
       "      <td>11</td>\n",
       "      <td>26</td>\n",
       "      <td>2015-07-07</td>\n",
       "      <td>289</td>\n",
       "      <td>36</td>\n",
       "      <td>33</td>\n",
       "      <td>239.554</td>\n",
       "      <td>30</td>\n",
       "      <td>1</td>\n",
       "      <td>2</td>\n",
       "      <td>1</td>\n",
       "      <td>4</td>\n",
       "      <td>7</td>\n",
       "      <td>2</td>\n",
       "    </tr>\n",
       "    <tr>\n",
       "      <th>1</th>\n",
       "      <td>36</td>\n",
       "      <td>0</td>\n",
       "      <td>2015-07-14</td>\n",
       "      <td>118</td>\n",
       "      <td>13</td>\n",
       "      <td>50</td>\n",
       "      <td>239.554</td>\n",
       "      <td>31</td>\n",
       "      <td>1</td>\n",
       "      <td>1</td>\n",
       "      <td>0</td>\n",
       "      <td>0</td>\n",
       "      <td>7</td>\n",
       "      <td>2</td>\n",
       "    </tr>\n",
       "  </tbody>\n",
       "</table>\n",
       "</div>"
      ],
      "text/plain": [
       "   ID  Reason for Absence       Date  Transportation Expense  \\\n",
       "0  11                  26 2015-07-07                     289   \n",
       "1  36                   0 2015-07-14                     118   \n",
       "\n",
       "   Distance to Work  Age  Daily Work Load Average  Body Mass Index  Education  \\\n",
       "0                36   33                  239.554               30          1   \n",
       "1                13   50                  239.554               31          1   \n",
       "\n",
       "   Children  Pets  Absenteeism Time in Hours  Month of absence  \\\n",
       "0         2     1                          4                 7   \n",
       "1         1     0                          0                 7   \n",
       "\n",
       "   Day of the week  \n",
       "0                2  \n",
       "1                2  "
      ]
     },
     "execution_count": 5,
     "metadata": {},
     "output_type": "execute_result"
    }
   ],
   "source": [
    "df.head(2)"
   ]
  },
  {
   "cell_type": "markdown",
   "id": "41edbcc2-cf41-49e8-ae19-69348e61dcb1",
   "metadata": {},
   "source": [
    "Now I check for null values in the dataset:"
   ]
  },
  {
   "cell_type": "code",
   "execution_count": 6,
   "id": "6285122b-f838-45b4-85b5-bfb6a8f6473c",
   "metadata": {},
   "outputs": [
    {
     "name": "stdout",
     "output_type": "stream",
     "text": [
      "There are no null/missing values in the dataset.\n"
     ]
    }
   ],
   "source": [
    "print(\"There are \" + (\"some\" if df.isnull().values.any() else \"no\")  + \" null/missing values in the dataset.\")"
   ]
  },
  {
   "cell_type": "markdown",
   "id": "8d3e6de3-8897-4b8c-a0ff-bd9a06770193",
   "metadata": {},
   "source": [
    "There are no missing values in the dataset. Now we have to check the invalid data in the dataset. "
   ]
  },
  {
   "cell_type": "code",
   "execution_count": 7,
   "id": "f7ab1c2f-fd82-4ca9-8caa-5f38120a7ce3",
   "metadata": {},
   "outputs": [
    {
     "data": {
      "text/html": [
       "<div>\n",
       "<style scoped>\n",
       "    .dataframe tbody tr th:only-of-type {\n",
       "        vertical-align: middle;\n",
       "    }\n",
       "\n",
       "    .dataframe tbody tr th {\n",
       "        vertical-align: top;\n",
       "    }\n",
       "\n",
       "    .dataframe thead th {\n",
       "        text-align: right;\n",
       "    }\n",
       "</style>\n",
       "<table border=\"1\" class=\"dataframe\">\n",
       "  <thead>\n",
       "    <tr style=\"text-align: right;\">\n",
       "      <th></th>\n",
       "      <th>ID</th>\n",
       "      <th>Reason for Absence</th>\n",
       "      <th>Date</th>\n",
       "      <th>Transportation Expense</th>\n",
       "      <th>Distance to Work</th>\n",
       "      <th>Age</th>\n",
       "      <th>Daily Work Load Average</th>\n",
       "      <th>Body Mass Index</th>\n",
       "      <th>Education</th>\n",
       "      <th>Children</th>\n",
       "      <th>Pets</th>\n",
       "      <th>Absenteeism Time in Hours</th>\n",
       "      <th>Month of absence</th>\n",
       "      <th>Day of the week</th>\n",
       "    </tr>\n",
       "  </thead>\n",
       "  <tbody>\n",
       "    <tr>\n",
       "      <th>count</th>\n",
       "      <td>700.000000</td>\n",
       "      <td>700.000000</td>\n",
       "      <td>700</td>\n",
       "      <td>700.000000</td>\n",
       "      <td>700.000000</td>\n",
       "      <td>700.000000</td>\n",
       "      <td>700.000000</td>\n",
       "      <td>700.000000</td>\n",
       "      <td>700.000000</td>\n",
       "      <td>700.000000</td>\n",
       "      <td>700.000000</td>\n",
       "      <td>700.000000</td>\n",
       "      <td>700.00000</td>\n",
       "      <td>700.000000</td>\n",
       "    </tr>\n",
       "    <tr>\n",
       "      <th>mean</th>\n",
       "      <td>17.951429</td>\n",
       "      <td>19.411429</td>\n",
       "      <td>2016-12-31 00:45:15.428571392</td>\n",
       "      <td>222.347143</td>\n",
       "      <td>29.892857</td>\n",
       "      <td>36.417143</td>\n",
       "      <td>271.801774</td>\n",
       "      <td>26.737143</td>\n",
       "      <td>1.282857</td>\n",
       "      <td>1.021429</td>\n",
       "      <td>0.687143</td>\n",
       "      <td>6.761429</td>\n",
       "      <td>6.36000</td>\n",
       "      <td>3.011429</td>\n",
       "    </tr>\n",
       "    <tr>\n",
       "      <th>min</th>\n",
       "      <td>1.000000</td>\n",
       "      <td>0.000000</td>\n",
       "      <td>2015-07-06 00:00:00</td>\n",
       "      <td>118.000000</td>\n",
       "      <td>5.000000</td>\n",
       "      <td>27.000000</td>\n",
       "      <td>205.917000</td>\n",
       "      <td>19.000000</td>\n",
       "      <td>1.000000</td>\n",
       "      <td>0.000000</td>\n",
       "      <td>0.000000</td>\n",
       "      <td>0.000000</td>\n",
       "      <td>1.00000</td>\n",
       "      <td>1.000000</td>\n",
       "    </tr>\n",
       "    <tr>\n",
       "      <th>25%</th>\n",
       "      <td>9.000000</td>\n",
       "      <td>13.000000</td>\n",
       "      <td>2016-03-27 06:00:00</td>\n",
       "      <td>179.000000</td>\n",
       "      <td>16.000000</td>\n",
       "      <td>31.000000</td>\n",
       "      <td>241.476000</td>\n",
       "      <td>24.000000</td>\n",
       "      <td>1.000000</td>\n",
       "      <td>0.000000</td>\n",
       "      <td>0.000000</td>\n",
       "      <td>2.000000</td>\n",
       "      <td>3.00000</td>\n",
       "      <td>2.000000</td>\n",
       "    </tr>\n",
       "    <tr>\n",
       "      <th>50%</th>\n",
       "      <td>18.000000</td>\n",
       "      <td>23.000000</td>\n",
       "      <td>2016-12-19 00:00:00</td>\n",
       "      <td>225.000000</td>\n",
       "      <td>26.000000</td>\n",
       "      <td>37.000000</td>\n",
       "      <td>264.249000</td>\n",
       "      <td>25.000000</td>\n",
       "      <td>1.000000</td>\n",
       "      <td>1.000000</td>\n",
       "      <td>0.000000</td>\n",
       "      <td>3.000000</td>\n",
       "      <td>6.00000</td>\n",
       "      <td>3.000000</td>\n",
       "    </tr>\n",
       "    <tr>\n",
       "      <th>75%</th>\n",
       "      <td>28.000000</td>\n",
       "      <td>27.000000</td>\n",
       "      <td>2017-10-26 06:00:00</td>\n",
       "      <td>260.000000</td>\n",
       "      <td>50.000000</td>\n",
       "      <td>40.000000</td>\n",
       "      <td>294.217000</td>\n",
       "      <td>31.000000</td>\n",
       "      <td>1.000000</td>\n",
       "      <td>2.000000</td>\n",
       "      <td>1.000000</td>\n",
       "      <td>8.000000</td>\n",
       "      <td>10.00000</td>\n",
       "      <td>4.000000</td>\n",
       "    </tr>\n",
       "    <tr>\n",
       "      <th>max</th>\n",
       "      <td>36.000000</td>\n",
       "      <td>28.000000</td>\n",
       "      <td>2018-05-31 00:00:00</td>\n",
       "      <td>388.000000</td>\n",
       "      <td>52.000000</td>\n",
       "      <td>58.000000</td>\n",
       "      <td>378.884000</td>\n",
       "      <td>38.000000</td>\n",
       "      <td>4.000000</td>\n",
       "      <td>4.000000</td>\n",
       "      <td>8.000000</td>\n",
       "      <td>120.000000</td>\n",
       "      <td>12.00000</td>\n",
       "      <td>7.000000</td>\n",
       "    </tr>\n",
       "    <tr>\n",
       "      <th>std</th>\n",
       "      <td>11.028144</td>\n",
       "      <td>8.356292</td>\n",
       "      <td>NaN</td>\n",
       "      <td>66.312960</td>\n",
       "      <td>14.804446</td>\n",
       "      <td>6.379083</td>\n",
       "      <td>40.021804</td>\n",
       "      <td>4.254701</td>\n",
       "      <td>0.668090</td>\n",
       "      <td>1.112215</td>\n",
       "      <td>1.166095</td>\n",
       "      <td>12.670082</td>\n",
       "      <td>3.50501</td>\n",
       "      <td>1.480396</td>\n",
       "    </tr>\n",
       "  </tbody>\n",
       "</table>\n",
       "</div>"
      ],
      "text/plain": [
       "               ID  Reason for Absence                           Date  \\\n",
       "count  700.000000          700.000000                            700   \n",
       "mean    17.951429           19.411429  2016-12-31 00:45:15.428571392   \n",
       "min      1.000000            0.000000            2015-07-06 00:00:00   \n",
       "25%      9.000000           13.000000            2016-03-27 06:00:00   \n",
       "50%     18.000000           23.000000            2016-12-19 00:00:00   \n",
       "75%     28.000000           27.000000            2017-10-26 06:00:00   \n",
       "max     36.000000           28.000000            2018-05-31 00:00:00   \n",
       "std     11.028144            8.356292                            NaN   \n",
       "\n",
       "       Transportation Expense  Distance to Work         Age  \\\n",
       "count              700.000000        700.000000  700.000000   \n",
       "mean               222.347143         29.892857   36.417143   \n",
       "min                118.000000          5.000000   27.000000   \n",
       "25%                179.000000         16.000000   31.000000   \n",
       "50%                225.000000         26.000000   37.000000   \n",
       "75%                260.000000         50.000000   40.000000   \n",
       "max                388.000000         52.000000   58.000000   \n",
       "std                 66.312960         14.804446    6.379083   \n",
       "\n",
       "       Daily Work Load Average  Body Mass Index   Education    Children  \\\n",
       "count               700.000000       700.000000  700.000000  700.000000   \n",
       "mean                271.801774        26.737143    1.282857    1.021429   \n",
       "min                 205.917000        19.000000    1.000000    0.000000   \n",
       "25%                 241.476000        24.000000    1.000000    0.000000   \n",
       "50%                 264.249000        25.000000    1.000000    1.000000   \n",
       "75%                 294.217000        31.000000    1.000000    2.000000   \n",
       "max                 378.884000        38.000000    4.000000    4.000000   \n",
       "std                  40.021804         4.254701    0.668090    1.112215   \n",
       "\n",
       "             Pets  Absenteeism Time in Hours  Month of absence  \\\n",
       "count  700.000000                 700.000000         700.00000   \n",
       "mean     0.687143                   6.761429           6.36000   \n",
       "min      0.000000                   0.000000           1.00000   \n",
       "25%      0.000000                   2.000000           3.00000   \n",
       "50%      0.000000                   3.000000           6.00000   \n",
       "75%      1.000000                   8.000000          10.00000   \n",
       "max      8.000000                 120.000000          12.00000   \n",
       "std      1.166095                  12.670082           3.50501   \n",
       "\n",
       "       Day of the week  \n",
       "count       700.000000  \n",
       "mean          3.011429  \n",
       "min           1.000000  \n",
       "25%           2.000000  \n",
       "50%           3.000000  \n",
       "75%           4.000000  \n",
       "max           7.000000  \n",
       "std           1.480396  "
      ]
     },
     "execution_count": 7,
     "metadata": {},
     "output_type": "execute_result"
    }
   ],
   "source": [
    "# summary of data\n",
    "df.describe()"
   ]
  },
  {
   "cell_type": "markdown",
   "id": "edb5c463-9080-42c1-9cee-209bf8b51c23",
   "metadata": {},
   "source": [
    "Now let's check *Reason of absence*."
   ]
  },
  {
   "cell_type": "code",
   "execution_count": 8,
   "id": "70a80d36-9d67-4aca-9c1e-07bd56db1907",
   "metadata": {},
   "outputs": [
    {
     "data": {
      "text/plain": [
       "38"
      ]
     },
     "execution_count": 8,
     "metadata": {},
     "output_type": "execute_result"
    }
   ],
   "source": [
    "len(df[df['Reason for Absence'] == 0]) # occurences with 'reason' = 0."
   ]
  },
  {
   "cell_type": "code",
   "execution_count": 9,
   "id": "ad286154-cee1-472b-bf14-c5ca1d301906",
   "metadata": {},
   "outputs": [
    {
     "data": {
      "text/html": [
       "<div>\n",
       "<style scoped>\n",
       "    .dataframe tbody tr th:only-of-type {\n",
       "        vertical-align: middle;\n",
       "    }\n",
       "\n",
       "    .dataframe tbody tr th {\n",
       "        vertical-align: top;\n",
       "    }\n",
       "\n",
       "    .dataframe thead th {\n",
       "        text-align: right;\n",
       "    }\n",
       "</style>\n",
       "<table border=\"1\" class=\"dataframe\">\n",
       "  <thead>\n",
       "    <tr style=\"text-align: right;\">\n",
       "      <th></th>\n",
       "      <th>ID</th>\n",
       "      <th>Reason for Absence</th>\n",
       "      <th>Date</th>\n",
       "      <th>Transportation Expense</th>\n",
       "      <th>Distance to Work</th>\n",
       "      <th>Age</th>\n",
       "      <th>Daily Work Load Average</th>\n",
       "      <th>Body Mass Index</th>\n",
       "      <th>Education</th>\n",
       "      <th>Children</th>\n",
       "      <th>Pets</th>\n",
       "      <th>Absenteeism Time in Hours</th>\n",
       "      <th>Month of absence</th>\n",
       "      <th>Day of the week</th>\n",
       "    </tr>\n",
       "  </thead>\n",
       "  <tbody>\n",
       "    <tr>\n",
       "      <th>count</th>\n",
       "      <td>38.000000</td>\n",
       "      <td>38.0</td>\n",
       "      <td>38</td>\n",
       "      <td>38.000000</td>\n",
       "      <td>38.000000</td>\n",
       "      <td>38.000000</td>\n",
       "      <td>38.000000</td>\n",
       "      <td>38.000000</td>\n",
       "      <td>38.000000</td>\n",
       "      <td>38.000000</td>\n",
       "      <td>38.000000</td>\n",
       "      <td>38.0</td>\n",
       "      <td>38.000000</td>\n",
       "      <td>38.000000</td>\n",
       "    </tr>\n",
       "    <tr>\n",
       "      <th>mean</th>\n",
       "      <td>18.578947</td>\n",
       "      <td>0.0</td>\n",
       "      <td>2016-10-15 23:22:06.315789568</td>\n",
       "      <td>251.921053</td>\n",
       "      <td>26.447368</td>\n",
       "      <td>39.210526</td>\n",
       "      <td>276.289632</td>\n",
       "      <td>28.052632</td>\n",
       "      <td>1.105263</td>\n",
       "      <td>1.394737</td>\n",
       "      <td>0.763158</td>\n",
       "      <td>0.0</td>\n",
       "      <td>7.973684</td>\n",
       "      <td>3.289474</td>\n",
       "    </tr>\n",
       "    <tr>\n",
       "      <th>min</th>\n",
       "      <td>1.000000</td>\n",
       "      <td>0.0</td>\n",
       "      <td>2015-07-14 00:00:00</td>\n",
       "      <td>118.000000</td>\n",
       "      <td>5.000000</td>\n",
       "      <td>28.000000</td>\n",
       "      <td>237.656000</td>\n",
       "      <td>21.000000</td>\n",
       "      <td>1.000000</td>\n",
       "      <td>0.000000</td>\n",
       "      <td>0.000000</td>\n",
       "      <td>0.0</td>\n",
       "      <td>3.000000</td>\n",
       "      <td>1.000000</td>\n",
       "    </tr>\n",
       "    <tr>\n",
       "      <th>25%</th>\n",
       "      <td>7.250000</td>\n",
       "      <td>0.0</td>\n",
       "      <td>2016-05-19 18:00:00</td>\n",
       "      <td>226.500000</td>\n",
       "      <td>15.250000</td>\n",
       "      <td>33.750000</td>\n",
       "      <td>244.387000</td>\n",
       "      <td>24.000000</td>\n",
       "      <td>1.000000</td>\n",
       "      <td>1.000000</td>\n",
       "      <td>0.000000</td>\n",
       "      <td>0.0</td>\n",
       "      <td>5.000000</td>\n",
       "      <td>2.000000</td>\n",
       "    </tr>\n",
       "    <tr>\n",
       "      <th>50%</th>\n",
       "      <td>18.500000</td>\n",
       "      <td>0.0</td>\n",
       "      <td>2016-10-10 00:00:00</td>\n",
       "      <td>247.000000</td>\n",
       "      <td>22.500000</td>\n",
       "      <td>39.000000</td>\n",
       "      <td>265.017000</td>\n",
       "      <td>25.000000</td>\n",
       "      <td>1.000000</td>\n",
       "      <td>1.000000</td>\n",
       "      <td>0.000000</td>\n",
       "      <td>0.0</td>\n",
       "      <td>9.000000</td>\n",
       "      <td>3.000000</td>\n",
       "    </tr>\n",
       "    <tr>\n",
       "      <th>75%</th>\n",
       "      <td>28.750000</td>\n",
       "      <td>0.0</td>\n",
       "      <td>2017-03-28 00:00:00</td>\n",
       "      <td>291.000000</td>\n",
       "      <td>35.750000</td>\n",
       "      <td>43.000000</td>\n",
       "      <td>284.647500</td>\n",
       "      <td>31.000000</td>\n",
       "      <td>1.000000</td>\n",
       "      <td>2.000000</td>\n",
       "      <td>1.000000</td>\n",
       "      <td>0.0</td>\n",
       "      <td>10.000000</td>\n",
       "      <td>4.000000</td>\n",
       "    </tr>\n",
       "    <tr>\n",
       "      <th>max</th>\n",
       "      <td>36.000000</td>\n",
       "      <td>0.0</td>\n",
       "      <td>2018-05-16 00:00:00</td>\n",
       "      <td>388.000000</td>\n",
       "      <td>51.000000</td>\n",
       "      <td>50.000000</td>\n",
       "      <td>378.884000</td>\n",
       "      <td>38.000000</td>\n",
       "      <td>3.000000</td>\n",
       "      <td>4.000000</td>\n",
       "      <td>5.000000</td>\n",
       "      <td>0.0</td>\n",
       "      <td>11.000000</td>\n",
       "      <td>7.000000</td>\n",
       "    </tr>\n",
       "    <tr>\n",
       "      <th>std</th>\n",
       "      <td>11.551604</td>\n",
       "      <td>0.0</td>\n",
       "      <td>NaN</td>\n",
       "      <td>80.653541</td>\n",
       "      <td>14.365306</td>\n",
       "      <td>7.293677</td>\n",
       "      <td>41.170167</td>\n",
       "      <td>5.462142</td>\n",
       "      <td>0.388307</td>\n",
       "      <td>1.103789</td>\n",
       "      <td>1.364298</td>\n",
       "      <td>0.0</td>\n",
       "      <td>2.726118</td>\n",
       "      <td>1.412452</td>\n",
       "    </tr>\n",
       "  </tbody>\n",
       "</table>\n",
       "</div>"
      ],
      "text/plain": [
       "              ID  Reason for Absence                           Date  \\\n",
       "count  38.000000                38.0                             38   \n",
       "mean   18.578947                 0.0  2016-10-15 23:22:06.315789568   \n",
       "min     1.000000                 0.0            2015-07-14 00:00:00   \n",
       "25%     7.250000                 0.0            2016-05-19 18:00:00   \n",
       "50%    18.500000                 0.0            2016-10-10 00:00:00   \n",
       "75%    28.750000                 0.0            2017-03-28 00:00:00   \n",
       "max    36.000000                 0.0            2018-05-16 00:00:00   \n",
       "std    11.551604                 0.0                            NaN   \n",
       "\n",
       "       Transportation Expense  Distance to Work        Age  \\\n",
       "count               38.000000         38.000000  38.000000   \n",
       "mean               251.921053         26.447368  39.210526   \n",
       "min                118.000000          5.000000  28.000000   \n",
       "25%                226.500000         15.250000  33.750000   \n",
       "50%                247.000000         22.500000  39.000000   \n",
       "75%                291.000000         35.750000  43.000000   \n",
       "max                388.000000         51.000000  50.000000   \n",
       "std                 80.653541         14.365306   7.293677   \n",
       "\n",
       "       Daily Work Load Average  Body Mass Index  Education   Children  \\\n",
       "count                38.000000        38.000000  38.000000  38.000000   \n",
       "mean                276.289632        28.052632   1.105263   1.394737   \n",
       "min                 237.656000        21.000000   1.000000   0.000000   \n",
       "25%                 244.387000        24.000000   1.000000   1.000000   \n",
       "50%                 265.017000        25.000000   1.000000   1.000000   \n",
       "75%                 284.647500        31.000000   1.000000   2.000000   \n",
       "max                 378.884000        38.000000   3.000000   4.000000   \n",
       "std                  41.170167         5.462142   0.388307   1.103789   \n",
       "\n",
       "            Pets  Absenteeism Time in Hours  Month of absence  Day of the week  \n",
       "count  38.000000                       38.0         38.000000        38.000000  \n",
       "mean    0.763158                        0.0          7.973684         3.289474  \n",
       "min     0.000000                        0.0          3.000000         1.000000  \n",
       "25%     0.000000                        0.0          5.000000         2.000000  \n",
       "50%     0.000000                        0.0          9.000000         3.000000  \n",
       "75%     1.000000                        0.0         10.000000         4.000000  \n",
       "max     5.000000                        0.0         11.000000         7.000000  \n",
       "std     1.364298                        0.0          2.726118         1.412452  "
      ]
     },
     "execution_count": 9,
     "metadata": {},
     "output_type": "execute_result"
    }
   ],
   "source": [
    "df[df['Reason for Absence'] == 0].describe() # summary of the subset of data having reason = 0"
   ]
  },
  {
   "cell_type": "markdown",
   "id": "681180e1-f0a2-4607-8ab7-7f8bbdb1da77",
   "metadata": {},
   "source": [
    "I see that all the records having *reason = 0* also have *abs_hours = 0*. \n",
    "These records probably refers to cases of late work for less than an hour and so justification is not available. Considering these records into the analysis could be interesting and also useful for a company, so I keep them."
   ]
  },
  {
   "cell_type": "markdown",
   "id": "285758fa-d37e-4468-b454-4c6b950b31c8",
   "metadata": {},
   "source": [
    "\n",
    "### 🔍 Exploratory Data Analysis"
   ]
  },
  {
   "cell_type": "markdown",
   "id": "6ec78330-bd1f-47b4-8cae-b496a9c3bbb9",
   "metadata": {},
   "source": [
    "Sometimes simple plotting can help understanding how to proceed. Analyzing the distribution of *Absenteeism time in hours* and then will try to undestrand the relationships between the other features."
   ]
  },
  {
   "cell_type": "code",
   "execution_count": 10,
   "id": "ae336c4c-8e24-405d-97cf-823ba2616bde",
   "metadata": {},
   "outputs": [],
   "source": [
    "# make a copy of data \n",
    "df_eda = df.copy()"
   ]
  },
  {
   "cell_type": "code",
   "execution_count": 11,
   "id": "0162baff-cf5a-4701-9ca5-14213debdd73",
   "metadata": {},
   "outputs": [
    {
     "data": {
      "image/png": "[encoded data removed]",
      "text/plain": [
       "<Figure size 500x300 with 1 Axes>"
      ]
     },
     "metadata": {},
     "output_type": "display_data"
    }
   ],
   "source": [
    "# Histogram of Absenteeism Time in Hours (Smaller Version)\n",
    "bins = 40\n",
    "fig, ax = plt.subplots(figsize=(5, 3))  # Smaller figure size\n",
    "ax.hist(df_eda['Absenteeism Time in Hours'], bins=bins, rwidth=0.8, density=True)\n",
    "ax.set_xlabel('Absenteeism Time in Hours')\n",
    "ax.set_ylabel('Frequency')\n",
    "ax.set_title('Absenteeism Hours Distribution')\n",
    "plt.tight_layout()\n",
    "plt.show()"
   ]
  },
  {
   "cell_type": "markdown",
   "id": "33a79246-d8ef-4f6d-bccd-d2eb3c7b2244",
   "metadata": {},
   "source": [
    "Most employees are absent for short durations; longer absences are rare."
   ]
  },
  {
   "cell_type": "code",
   "execution_count": 12,
   "id": "bf1fdc37-fa1d-4ebf-81ee-335cbd017c34",
   "metadata": {},
   "outputs": [
    {
     "data": {
      "image/png": "[encoded data removed]",
      "text/plain": [
       "<Figure size 400x300 with 1 Axes>"
      ]
     },
     "metadata": {},
     "output_type": "display_data"
    }
   ],
   "source": [
    "# Smaller boxplot of Absenteeism Time in Hours\n",
    "plt.figure(figsize=(4, 3))  # width=4 inches, height=3 inches\n",
    "plt.boxplot(df_eda['Absenteeism Time in Hours'], widths=0.4)\n",
    "plt.ylabel('Absenteeism Time in Hours')\n",
    "plt.xlabel('Boxplot')\n",
    "plt.title('Distribution of Absenteeism Hours')\n",
    "plt.tight_layout()\n",
    "plt.show()"
   ]
  },
  {
   "cell_type": "markdown",
   "id": "a1f45d8f-f312-405d-bab1-74c7bc6dd5f3",
   "metadata": {},
   "source": [
    "Shows a right-skewed distribution with a few high outliers.\n",
    "Clearly, in *Abseteeism time in hours* there is a great presence of outliers. It seems there are few observations particularly unusual."
   ]
  },
  {
   "cell_type": "code",
   "execution_count": 13,
   "id": "a679543f-4013-4ed5-8ada-cc4f22bee1cc",
   "metadata": {},
   "outputs": [
    {
     "data": {
      "text/plain": [
       "Text(0, 0.5, 'Frequency')"
      ]
     },
     "execution_count": 13,
     "metadata": {},
     "output_type": "execute_result"
    },
    {
     "data": {
      "image/png": "[encoded data removed]",
      "text/plain": [
       "<Figure size 500x300 with 1 Axes>"
      ]
     },
     "metadata": {},
     "output_type": "display_data"
    }
   ],
   "source": [
    "# Frequency of Absenteeism time for values grater than a week (40 hours). \n",
    "bins = 20\n",
    "fig, ax = plt.subplots(figsize=(5, 3))\n",
    "out = df_eda[df_eda['Absenteeism Time in Hours'] > 40]\n",
    "ax.hist(out['Absenteeism Time in Hours'], bins, rwidth = 0.8, density = True)\n",
    "ax.set_xlabel('Absenteeism time in hours')\n",
    "ax.set_ylabel('Frequency')"
   ]
  },
  {
   "cell_type": "markdown",
   "id": "3bb90909-5926-40f8-9a34-da0dfb5575c0",
   "metadata": {},
   "source": [
    "The dataset is clearly unbalanced: the number of records of the classes can be too different."
   ]
  },
  {
   "cell_type": "code",
   "execution_count": 14,
   "id": "49038433-1285-48ff-bba7-bef0912fd8f5",
   "metadata": {},
   "outputs": [
    {
     "data": {
      "image/png": "[encoded data removed]",
      "text/plain": [
       "<Figure size 400x300 with 1 Axes>"
      ]
     },
     "metadata": {},
     "output_type": "display_data"
    }
   ],
   "source": [
    "# Plotting absence \n",
    "plt.figure(figsize=(4, 3))\n",
    "time = df_eda['Absenteeism Time in Hours']\n",
    "hours = np.count_nonzero(time < 8)\n",
    "days = np.count_nonzero(time >= 8)\n",
    "x = np.array(['Less than one day', 'One day or more'])\n",
    "y = np.array([hours, days])\n",
    "plt.bar(x, y)\n",
    "plt.show()"
   ]
  },
  {
   "cell_type": "markdown",
   "id": "ff4a1770-63df-4e95-b228-16a2f1408f96",
   "metadata": {},
   "source": [
    "#### Reason and datatime"
   ]
  },
  {
   "cell_type": "markdown",
   "id": "1c24a5af-d0f1-431c-bd07-3e717651cbf5",
   "metadata": {},
   "source": [
    "A very important feature is *Reason of absence*. Let's analyze which reasons are most related to absence."
   ]
  },
  {
   "cell_type": "code",
   "execution_count": 15,
   "id": "53efe2c2-5fbb-45d0-adc8-241681586447",
   "metadata": {},
   "outputs": [
    {
     "data": {
      "text/plain": [
       "<seaborn.axisgrid.FacetGrid at 0x287052bb620>"
      ]
     },
     "execution_count": 15,
     "metadata": {},
     "output_type": "execute_result"
    },
    {
     "data": {
      "image/png": "[encoded data removed]",
      "text/plain": [
       "<Figure size 1000x500 with 1 Axes>"
      ]
     },
     "metadata": {},
     "output_type": "display_data"
    }
   ],
   "source": [
    "# Plot of Absenteeism Time in Hours by Reason for Absence\n",
    "sns.catplot(\n",
    "    x='Reason for Absence', \n",
    "    y='Absenteeism Time in Hours', \n",
    "    data=df_eda,                     # Assuming original dataframe with 'Reason for Absence'\n",
    "    kind='strip',                    # to better visualize spread\n",
    "    hue='Reason for Absence',        # Assign hue to enable palette\n",
    "    palette='husl',                  # color palette (try 'Set1', 'Set2', 'husl', etc.)\n",
    "    height=5,                        # height of the figure\n",
    "    aspect=2,                        # width = height * aspect\n",
    "    jitter=0.3,                      # amount of jitter (horizontal noise)\n",
    "    legend=False                     # Hide redundant legend\n",
    ").set_axis_labels(\"Reason for Absence Code\", \"Absenteeism Time in Hours\")\n"
   ]
  },
  {
   "cell_type": "markdown",
   "id": "1af95044-80a3-4dae-b56a-c2df7cd74616",
   "metadata": {},
   "source": [
    "### Understanding Reasons for Absence in the Dataset\n",
    "\n",
    "**Reason Code = 0 → Mostly Late Arrivals**  \n",
    "   - We had already noticed that when the *Reason for Absence* is `0` (i.e., *Not Available*), these entries typically refer to short delays or late arrivals.\n",
    "\n",
    "**Reason Codes 22 to 28 → Not Illness-Related** \n",
    "\n",
    "\n",
    "   - Reasons 22–28 (non-medical) dominate short absences. Serious reasons lead to longer hours.\n",
    "   - These reasons include **doctor check-ups**, **medical consultations**, or other **non-serious reasons**.\n",
    "\n",
    "On the contrary, for absences of a day or more, the reason is often a serious medical problem.\n"
   ]
  },
  {
   "cell_type": "code",
   "execution_count": 16,
   "id": "24ba9467-eb09-4554-aa3f-e21afae1988d",
   "metadata": {},
   "outputs": [
    {
     "data": {
      "text/html": [
       "<div>\n",
       "<style scoped>\n",
       "    .dataframe tbody tr th:only-of-type {\n",
       "        vertical-align: middle;\n",
       "    }\n",
       "\n",
       "    .dataframe tbody tr th {\n",
       "        vertical-align: top;\n",
       "    }\n",
       "\n",
       "    .dataframe thead th {\n",
       "        text-align: right;\n",
       "    }\n",
       "</style>\n",
       "<table border=\"1\" class=\"dataframe\">\n",
       "  <thead>\n",
       "    <tr style=\"text-align: right;\">\n",
       "      <th></th>\n",
       "      <th>ID</th>\n",
       "      <th>Reason for Absence</th>\n",
       "      <th>Date</th>\n",
       "      <th>Transportation Expense</th>\n",
       "      <th>Distance to Work</th>\n",
       "      <th>Age</th>\n",
       "      <th>Daily Work Load Average</th>\n",
       "      <th>Body Mass Index</th>\n",
       "      <th>Education</th>\n",
       "      <th>Children</th>\n",
       "      <th>Pets</th>\n",
       "      <th>Absenteeism Time in Hours</th>\n",
       "      <th>Month of absence</th>\n",
       "      <th>Day of the week</th>\n",
       "    </tr>\n",
       "  </thead>\n",
       "  <tbody>\n",
       "    <tr>\n",
       "      <th>0</th>\n",
       "      <td>11</td>\n",
       "      <td>26</td>\n",
       "      <td>2015-07-07</td>\n",
       "      <td>289</td>\n",
       "      <td>36</td>\n",
       "      <td>33</td>\n",
       "      <td>239.554</td>\n",
       "      <td>30</td>\n",
       "      <td>1</td>\n",
       "      <td>2</td>\n",
       "      <td>1</td>\n",
       "      <td>4</td>\n",
       "      <td>7</td>\n",
       "      <td>2</td>\n",
       "    </tr>\n",
       "    <tr>\n",
       "      <th>1</th>\n",
       "      <td>36</td>\n",
       "      <td>0</td>\n",
       "      <td>2015-07-14</td>\n",
       "      <td>118</td>\n",
       "      <td>13</td>\n",
       "      <td>50</td>\n",
       "      <td>239.554</td>\n",
       "      <td>31</td>\n",
       "      <td>1</td>\n",
       "      <td>1</td>\n",
       "      <td>0</td>\n",
       "      <td>0</td>\n",
       "      <td>7</td>\n",
       "      <td>2</td>\n",
       "    </tr>\n",
       "    <tr>\n",
       "      <th>2</th>\n",
       "      <td>3</td>\n",
       "      <td>23</td>\n",
       "      <td>2015-07-15</td>\n",
       "      <td>179</td>\n",
       "      <td>51</td>\n",
       "      <td>38</td>\n",
       "      <td>239.554</td>\n",
       "      <td>31</td>\n",
       "      <td>1</td>\n",
       "      <td>0</td>\n",
       "      <td>0</td>\n",
       "      <td>2</td>\n",
       "      <td>7</td>\n",
       "      <td>3</td>\n",
       "    </tr>\n",
       "    <tr>\n",
       "      <th>3</th>\n",
       "      <td>7</td>\n",
       "      <td>7</td>\n",
       "      <td>2015-07-16</td>\n",
       "      <td>279</td>\n",
       "      <td>5</td>\n",
       "      <td>39</td>\n",
       "      <td>239.554</td>\n",
       "      <td>24</td>\n",
       "      <td>1</td>\n",
       "      <td>2</td>\n",
       "      <td>0</td>\n",
       "      <td>4</td>\n",
       "      <td>7</td>\n",
       "      <td>4</td>\n",
       "    </tr>\n",
       "    <tr>\n",
       "      <th>4</th>\n",
       "      <td>11</td>\n",
       "      <td>23</td>\n",
       "      <td>2015-07-23</td>\n",
       "      <td>289</td>\n",
       "      <td>36</td>\n",
       "      <td>33</td>\n",
       "      <td>239.554</td>\n",
       "      <td>30</td>\n",
       "      <td>1</td>\n",
       "      <td>2</td>\n",
       "      <td>1</td>\n",
       "      <td>2</td>\n",
       "      <td>7</td>\n",
       "      <td>4</td>\n",
       "    </tr>\n",
       "  </tbody>\n",
       "</table>\n",
       "</div>"
      ],
      "text/plain": [
       "   ID  Reason for Absence       Date  Transportation Expense  \\\n",
       "0  11                  26 2015-07-07                     289   \n",
       "1  36                   0 2015-07-14                     118   \n",
       "2   3                  23 2015-07-15                     179   \n",
       "3   7                   7 2015-07-16                     279   \n",
       "4  11                  23 2015-07-23                     289   \n",
       "\n",
       "   Distance to Work  Age  Daily Work Load Average  Body Mass Index  Education  \\\n",
       "0                36   33                  239.554               30          1   \n",
       "1                13   50                  239.554               31          1   \n",
       "2                51   38                  239.554               31          1   \n",
       "3                 5   39                  239.554               24          1   \n",
       "4                36   33                  239.554               30          1   \n",
       "\n",
       "   Children  Pets  Absenteeism Time in Hours  Month of absence  \\\n",
       "0         2     1                          4                 7   \n",
       "1         1     0                          0                 7   \n",
       "2         0     0                          2                 7   \n",
       "3         2     0                          4                 7   \n",
       "4         2     1                          2                 7   \n",
       "\n",
       "   Day of the week  \n",
       "0                2  \n",
       "1                2  \n",
       "2                3  \n",
       "3                4  \n",
       "4                4  "
      ]
     },
     "execution_count": 16,
     "metadata": {},
     "output_type": "execute_result"
    }
   ],
   "source": [
    "df_eda.head()"
   ]
  },
  {
   "cell_type": "code",
   "execution_count": 17,
   "id": "973f9d17-3873-45a9-978e-1a68b047ea74",
   "metadata": {},
   "outputs": [
    {
     "data": {
      "text/plain": [
       "<seaborn.axisgrid.FacetGrid at 0x28707810050>"
      ]
     },
     "execution_count": 17,
     "metadata": {},
     "output_type": "execute_result"
    },
    {
     "data": {
      "image/png": "[encoded data removed]",
      "text/plain": [
       "<Figure size 800x400 with 1 Axes>"
      ]
     },
     "metadata": {},
     "output_type": "display_data"
    }
   ],
   "source": [
    "# DAY OF THE WEEK\n",
    "\n",
    "# Map numeric day (1 = Monday, ..., 7 = Sunday) to weekday names\n",
    "day_map = {1: 'Monday', 2: 'Tuesday', 3: 'Wednesday', 4: 'Thursday',\n",
    "           5: 'Friday', 6: 'Saturday', 7: 'Sunday'}\n",
    "df_eda['day_name'] = df_eda['Day of the week'].map(day_map)\n",
    "\n",
    "# Plot\n",
    "sns.catplot(\n",
    "    x='day_name',\n",
    "    y='Absenteeism Time in Hours',\n",
    "    data=df_eda,\n",
    "    kind='strip',\n",
    "    hue='day_name',             \n",
    "    palette='husl',\n",
    "    legend=False,               \n",
    "    height=4,\n",
    "    aspect=2,\n",
    "    jitter=0.25\n",
    ").set_axis_labels(\"Day of the Week\", \"Absenteeism Time (Hours)\")"
   ]
  },
  {
   "cell_type": "code",
   "execution_count": 18,
   "id": "5b45692d-0bfd-47d4-87a1-da33d6d6dec5",
   "metadata": {},
   "outputs": [
    {
     "data": {
      "text/plain": [
       "<seaborn.axisgrid.FacetGrid at 0x2870786a710>"
      ]
     },
     "execution_count": 18,
     "metadata": {},
     "output_type": "execute_result"
    },
    {
     "data": {
      "image/png": "[encoded data removed]",
      "text/plain": [
       "<Figure size 1200x400 with 1 Axes>"
      ]
     },
     "metadata": {},
     "output_type": "display_data"
    }
   ],
   "source": [
    "# MONTH OF ABSENCE\n",
    "# Create a month map\n",
    "month_map = {\n",
    "    1: 'January', 2: 'February', 3: 'March', 4: 'April',\n",
    "    5: 'May', 6: 'June', 7: 'July', 8: 'August',\n",
    "    9: 'September', 10: 'October', 11: 'November', 12: 'December'\n",
    "}\n",
    "\n",
    "# Map numeric month column to names\n",
    "df_eda['month_name'] = df_eda['Month of absence'].map(month_map)\n",
    "\n",
    "sns.catplot(\n",
    "    x='month_name',\n",
    "    y='Absenteeism Time in Hours',\n",
    "    data=df_eda,\n",
    "    kind='strip',\n",
    "    hue='month_name',         \n",
    "    palette='husl',\n",
    "    legend=False,\n",
    "    height=4,\n",
    "    aspect=3,\n",
    "    jitter=0.25\n",
    ").set_axis_labels(\"Month of Absence\", \"Absenteeism Time (Hours)\")\n"
   ]
  },
  {
   "cell_type": "markdown",
   "id": "68b9af9b-ca60-41f1-9257-1f192dfd3572",
   "metadata": {},
   "source": [
    "Absenteeism varies by weekday and month, possibly reflecting work stress or scheduling trends."
   ]
  },
  {
   "cell_type": "markdown",
   "id": "9c16ee6f-d64b-42d4-b113-a6ddeac75d4c",
   "metadata": {},
   "source": [
    "#### Personal and family"
   ]
  },
  {
   "cell_type": "code",
   "execution_count": 19,
   "id": "6ad80d2c-1ee7-44f6-9e63-bd3fd1e81cb2",
   "metadata": {},
   "outputs": [
    {
     "data": {
      "text/plain": [
       "<seaborn.axisgrid.FacetGrid at 0x28707da7c50>"
      ]
     },
     "execution_count": 19,
     "metadata": {},
     "output_type": "execute_result"
    },
    {
     "data": {
      "image/png": "[encoded data removed]",
      "text/plain": [
       "<Figure size 600x400 with 1 Axes>"
      ]
     },
     "metadata": {},
     "output_type": "display_data"
    }
   ],
   "source": [
    "# EDUCATION \n",
    "# Optional mapping for better readability\n",
    "education_map = {\n",
    "    1: 'High School',\n",
    "    2: 'Graduate',\n",
    "    3: 'Postgraduate',\n",
    "    4: 'Doctorate'\n",
    "}\n",
    "\n",
    "# Apply mapping to create a new column\n",
    "df_eda['education_level'] = df_eda['Education'].map(education_map)\n",
    "\n",
    "# Plot\n",
    "sns.catplot(\n",
    "    x='education_level',\n",
    "    y='Absenteeism Time in Hours',\n",
    "    hue='education_level',              \n",
    "    data=df_eda,\n",
    "    kind='strip',\n",
    "    height=4,\n",
    "    aspect=1.5,\n",
    "    jitter=0.25,\n",
    "    palette='husl',\n",
    "    legend=False                        \n",
    ").set_axis_labels(\"Education Level\", \"Absenteeism Time (Hours)\")\n"
   ]
  },
  {
   "cell_type": "code",
   "execution_count": 20,
   "id": "158b279b-e49e-4af0-99bf-78dd25b5ddd1",
   "metadata": {},
   "outputs": [
    {
     "data": {
      "text/plain": [
       "Education\n",
       "1    27\n",
       "2     4\n",
       "3     3\n",
       "4     1\n",
       "Name: ID, dtype: int64"
      ]
     },
     "execution_count": 20,
     "metadata": {},
     "output_type": "execute_result"
    }
   ],
   "source": [
    "# Employees per education\n",
    "df_eda.groupby('Education')['ID'].nunique()"
   ]
  },
  {
   "cell_type": "code",
   "execution_count": 21,
   "id": "5f4545c7-bad8-4715-8166-91d734fa8ed4",
   "metadata": {},
   "outputs": [
    {
     "data": {
      "text/plain": [
       "<seaborn.axisgrid.FacetGrid at 0x287073d7ed0>"
      ]
     },
     "execution_count": 21,
     "metadata": {},
     "output_type": "execute_result"
    },
    {
     "data": {
      "image/png": "[encoded data removed]",
      "text/plain": [
       "<Figure size 600x400 with 1 Axes>"
      ]
     },
     "metadata": {},
     "output_type": "display_data"
    }
   ],
   "source": [
    "# Children\n",
    "sns.catplot(\n",
    "    x='Children',\n",
    "    y='Absenteeism Time in Hours',\n",
    "    hue='Children',                     \n",
    "    data=df_eda,\n",
    "    kind='strip',\n",
    "    height=4,\n",
    "    aspect=1.5,\n",
    "    jitter=0.25,\n",
    "    palette='husl',\n",
    "    legend=False                    \n",
    ").set_axis_labels(\"Number of Children\", \"Absenteeism in Hours\")\n"
   ]
  },
  {
   "cell_type": "code",
   "execution_count": 22,
   "id": "4b72155c-1b97-4a6b-906a-69c6494b7e53",
   "metadata": {},
   "outputs": [
    {
     "data": {
      "text/plain": [
       "<seaborn.axisgrid.FacetGrid at 0x28708247390>"
      ]
     },
     "execution_count": 22,
     "metadata": {},
     "output_type": "execute_result"
    },
    {
     "data": {
      "image/png": "[encoded data removed]",
      "text/plain": [
       "<Figure size 600x400 with 1 Axes>"
      ]
     },
     "metadata": {},
     "output_type": "display_data"
    }
   ],
   "source": [
    "# Pets\n",
    "sns.catplot(\n",
    "    x='Pets',\n",
    "    y='Absenteeism Time in Hours',\n",
    "    hue='Pets',                     \n",
    "    data=df_eda,\n",
    "    kind='strip',\n",
    "    height=4,\n",
    "    aspect=1.5,\n",
    "    jitter=0.25,\n",
    "    palette='husl',\n",
    "    legend=False                    \n",
    ").set_axis_labels(\"Number of Pets\", \"Absenteeism in Hours\")"
   ]
  },
  {
   "cell_type": "markdown",
   "id": "07516694-541f-4e88-8fcc-f05f40c14dd0",
   "metadata": {},
   "source": [
    "### Correlation"
   ]
  },
  {
   "cell_type": "code",
   "execution_count": 23,
   "id": "4306b42e-2947-4b5b-8fcd-92a564cf81d0",
   "metadata": {},
   "outputs": [
    {
     "data": {
      "image/png": "[encoded data removed]",
      "text/plain": [
       "<Figure size 850x850 with 2 Axes>"
      ]
     },
     "metadata": {},
     "output_type": "display_data"
    }
   ],
   "source": [
    "# Correlation matrix \n",
    "# with categorical columns removed and remaining numerical features normalized\n",
    "\n",
    "df_num = df_eda.drop(columns=[\n",
    "    'ID', 'Reason for Absence', 'Date', \n",
    "    'day_name', 'month_name', 'education_level'\n",
    "])\n",
    "\n",
    "# Normalize the numeric data (z-score normalization)\n",
    "df_norm = (df_num - df_num.mean()) / df_num.std()\n",
    "\n",
    "# Compute the correlation matrix\n",
    "corr = df_norm.corr()\n",
    "\n",
    "# Plot the heatmap\n",
    "plt.figure(figsize=(8.5, 8.5))\n",
    "sns.heatmap(\n",
    "    corr,\n",
    "    annot=True,\n",
    "    vmin=-1,\n",
    "    vmax=1,\n",
    "    center=0,\n",
    "    cmap=sns.diverging_palette(20, 220, n=200)\n",
    ")\n",
    "plt.title('Correlation Heatmap', fontsize=5)\n",
    "plt.tight_layout()\n",
    "plt.show()\n"
   ]
  },
  {
   "cell_type": "markdown",
   "id": "88d66681-0323-4df8-a572-efd133ae1717",
   "metadata": {},
   "source": [
    "## 🔍 Correlation Heatmap Summary\n",
    "\n",
    "The correlation heatmap reveals some notable patterns:\n",
    "\n",
    "- **BMI** is moderately correlated with **Age** and **Children**, indicating older individuals may have higher BMI and more children.\n",
    "- **Transportation Expense** is positively correlated with **Distance to Work** and **Pets**, reflecting lifestyle or residential choices.\n",
    "- **Education** shows negative correlations with **BMI**, **Distance**, and **Age** - suggesting more educated individuals tend to be younger, healthier, and live closer to work.\n",
    "\n",
    "### 🎯 On Absenteeism:\n",
    "- **Absenteeism Time in Hours** shows **weak correlations** with all features.\n",
    "- Slight positive relation with **Children**; slight negative with **BMI** and **Distance**.\n",
    "- No strong linear driver of absenteeism among numerical features.\n",
    "\n",
    "📌 **Conclusion**: Absenteeism likely depends on **categorical features** or **combinations** of factors, not just single numeric variables.\n",
    "\n",
    "Shows weak correlation with absenteeism; multivariate patterns likely more informative.\n"
   ]
  },
  {
   "cell_type": "markdown",
   "id": "9c7ae15d-843d-463a-8353-e4f8f40fe410",
   "metadata": {},
   "source": [
    "## Step 2: Data Preprocessing\n",
    "\n",
    "Create reason type dummies from 'Reason for Absence'"
   ]
  },
  {
   "cell_type": "code",
   "execution_count": 24,
   "id": "6dab96f4-01ee-46f3-a44d-6a20d19732d5",
   "metadata": {},
   "outputs": [
    {
     "name": "stdout",
     "output_type": "stream",
     "text": [
      "Updated dataset shape: (700, 15)\n"
     ]
    },
    {
     "data": {
      "text/html": [
       "<div>\n",
       "<style scoped>\n",
       "    .dataframe tbody tr th:only-of-type {\n",
       "        vertical-align: middle;\n",
       "    }\n",
       "\n",
       "    .dataframe tbody tr th {\n",
       "        vertical-align: top;\n",
       "    }\n",
       "\n",
       "    .dataframe thead th {\n",
       "        text-align: right;\n",
       "    }\n",
       "</style>\n",
       "<table border=\"1\" class=\"dataframe\">\n",
       "  <thead>\n",
       "    <tr style=\"text-align: right;\">\n",
       "      <th></th>\n",
       "      <th>Reason_1</th>\n",
       "      <th>Reason_2</th>\n",
       "      <th>Reason_3</th>\n",
       "      <th>Reason_4</th>\n",
       "      <th>Month of absence</th>\n",
       "      <th>Day of the week</th>\n",
       "      <th>Transportation Expense</th>\n",
       "      <th>Distance to Work</th>\n",
       "      <th>Age</th>\n",
       "      <th>Daily Work Load Average</th>\n",
       "      <th>Body Mass Index</th>\n",
       "      <th>Education</th>\n",
       "      <th>Children</th>\n",
       "      <th>Pets</th>\n",
       "      <th>Absenteeism Time in Hours</th>\n",
       "    </tr>\n",
       "  </thead>\n",
       "  <tbody>\n",
       "    <tr>\n",
       "      <th>0</th>\n",
       "      <td>0</td>\n",
       "      <td>0</td>\n",
       "      <td>0</td>\n",
       "      <td>1</td>\n",
       "      <td>7</td>\n",
       "      <td>2</td>\n",
       "      <td>289</td>\n",
       "      <td>36</td>\n",
       "      <td>33</td>\n",
       "      <td>239.554</td>\n",
       "      <td>30</td>\n",
       "      <td>1</td>\n",
       "      <td>2</td>\n",
       "      <td>1</td>\n",
       "      <td>4</td>\n",
       "    </tr>\n",
       "    <tr>\n",
       "      <th>1</th>\n",
       "      <td>0</td>\n",
       "      <td>0</td>\n",
       "      <td>0</td>\n",
       "      <td>0</td>\n",
       "      <td>7</td>\n",
       "      <td>2</td>\n",
       "      <td>118</td>\n",
       "      <td>13</td>\n",
       "      <td>50</td>\n",
       "      <td>239.554</td>\n",
       "      <td>31</td>\n",
       "      <td>1</td>\n",
       "      <td>1</td>\n",
       "      <td>0</td>\n",
       "      <td>0</td>\n",
       "    </tr>\n",
       "    <tr>\n",
       "      <th>2</th>\n",
       "      <td>0</td>\n",
       "      <td>0</td>\n",
       "      <td>0</td>\n",
       "      <td>1</td>\n",
       "      <td>7</td>\n",
       "      <td>3</td>\n",
       "      <td>179</td>\n",
       "      <td>51</td>\n",
       "      <td>38</td>\n",
       "      <td>239.554</td>\n",
       "      <td>31</td>\n",
       "      <td>1</td>\n",
       "      <td>0</td>\n",
       "      <td>0</td>\n",
       "      <td>2</td>\n",
       "    </tr>\n",
       "    <tr>\n",
       "      <th>3</th>\n",
       "      <td>1</td>\n",
       "      <td>0</td>\n",
       "      <td>0</td>\n",
       "      <td>0</td>\n",
       "      <td>7</td>\n",
       "      <td>4</td>\n",
       "      <td>279</td>\n",
       "      <td>5</td>\n",
       "      <td>39</td>\n",
       "      <td>239.554</td>\n",
       "      <td>24</td>\n",
       "      <td>1</td>\n",
       "      <td>2</td>\n",
       "      <td>0</td>\n",
       "      <td>4</td>\n",
       "    </tr>\n",
       "    <tr>\n",
       "      <th>4</th>\n",
       "      <td>0</td>\n",
       "      <td>0</td>\n",
       "      <td>0</td>\n",
       "      <td>1</td>\n",
       "      <td>7</td>\n",
       "      <td>4</td>\n",
       "      <td>289</td>\n",
       "      <td>36</td>\n",
       "      <td>33</td>\n",
       "      <td>239.554</td>\n",
       "      <td>30</td>\n",
       "      <td>1</td>\n",
       "      <td>2</td>\n",
       "      <td>1</td>\n",
       "      <td>2</td>\n",
       "    </tr>\n",
       "  </tbody>\n",
       "</table>\n",
       "</div>"
      ],
      "text/plain": [
       "   Reason_1  Reason_2  Reason_3  Reason_4  Month of absence  Day of the week  \\\n",
       "0         0         0         0         1                 7                2   \n",
       "1         0         0         0         0                 7                2   \n",
       "2         0         0         0         1                 7                3   \n",
       "3         1         0         0         0                 7                4   \n",
       "4         0         0         0         1                 7                4   \n",
       "\n",
       "   Transportation Expense  Distance to Work  Age  Daily Work Load Average  \\\n",
       "0                     289                36   33                  239.554   \n",
       "1                     118                13   50                  239.554   \n",
       "2                     179                51   38                  239.554   \n",
       "3                     279                 5   39                  239.554   \n",
       "4                     289                36   33                  239.554   \n",
       "\n",
       "   Body Mass Index  Education  Children  Pets  Absenteeism Time in Hours  \n",
       "0               30          1         2     1                          4  \n",
       "1               31          1         1     0                          0  \n",
       "2               31          1         0     0                          2  \n",
       "3               24          1         2     0                          4  \n",
       "4               30          1         2     1                          2  "
      ]
     },
     "execution_count": 24,
     "metadata": {},
     "output_type": "execute_result"
    }
   ],
   "source": [
    "\n",
    "# Group ICD codes into broader categories\n",
    "reason_column = df['Reason for Absence']\n",
    "reason_type_1 = reason_column.isin(range(1, 15)).astype(int)\n",
    "reason_type_2 = reason_column.isin(range(15, 18)).astype(int)\n",
    "reason_type_3 = reason_column.isin(range(18, 22)).astype(int)\n",
    "reason_type_4 = reason_column.isin(range(22, 29)).astype(int)\n",
    "\n",
    "# Concatenate new reason type columns to dataframe\n",
    "df = pd.concat([df, reason_type_1.rename(\"Reason_1\"),\n",
    "                    reason_type_2.rename(\"Reason_2\"),\n",
    "                    reason_type_3.rename(\"Reason_3\"),\n",
    "                    reason_type_4.rename(\"Reason_4\")], axis=1)\n",
    "\n",
    "# Drop original Reason for Absence column\n",
    "df = df.drop(['Reason for Absence'], axis = 1)\n",
    "\n",
    "# Reorder Columns\n",
    "column_names_reordered = ['Reason_1', 'Reason_2', 'Reason_3', 'Reason_4', \n",
    "                          'Date', 'Month of absence', 'Day of the week', 'Transportation Expense', 'Distance to Work', 'Age',\n",
    "       'Daily Work Load Average', 'Body Mass Index', 'Education',\n",
    "       'Children', 'Pets', 'Absenteeism Time in Hours']\n",
    "\n",
    "df = df[column_names_reordered]\n",
    "\n",
    "# Drop Date\n",
    "df = df.drop(['Date'], axis = 1)\n",
    "\n",
    "# Create a Checkpoint \n",
    "data_preprocessed = df.copy()\n",
    "data_preprocessed\n",
    "\n",
    "# View updated dataframe shape and columns\n",
    "print(\"Updated dataset shape:\", data_preprocessed.shape)\n",
    "data_preprocessed.head()"
   ]
  },
  {
   "cell_type": "markdown",
   "id": "a595d71c-6efb-4791-ba4e-bebece90bf7b",
   "metadata": {},
   "source": [
    "### 🎯 Creating the Target for Logistic Regression\n",
    "\n",
    "To train a logistic regression model, we need a binary target (0 or 1).\n",
    "\n",
    "We define \"Excessive Absenteeism\" using the **median** of the `Absenteeism Time in Hours` column. If an employee has been absent for **more than the median**, we label it as `1` (excessive); otherwise, we assign `0`.\n",
    "\n",
    "This helps in keeping the dataset **balanced**, which is crucial for training classification models effectively. Had we used an arbitrary threshold (e.g., 8 hours), the classes might become imbalanced, hurting model performance.\n"
   ]
  },
  {
   "cell_type": "code",
   "execution_count": 26,
   "id": "15728ec8-41bb-40a1-932e-71321738f66a",
   "metadata": {},
   "outputs": [
    {
     "name": "stdout",
     "output_type": "stream",
     "text": [
      "Median Absenteeism Time (Hours): 3.0\n"
     ]
    },
    {
     "data": {
      "text/plain": [
       "Excessive Absenteeism\n",
       "0    381\n",
       "1    319\n",
       "Name: count, dtype: int64"
      ]
     },
     "execution_count": 26,
     "metadata": {},
     "output_type": "execute_result"
    }
   ],
   "source": [
    "# Compute the median of absenteeism hours\n",
    "median_val = data_preprocessed['Absenteeism Time in Hours'].median()\n",
    "print(\"Median Absenteeism Time (Hours):\", median_val)\n",
    "\n",
    "# Create binary targets based on median split\n",
    "targets = np.where(data_preprocessed['Absenteeism Time in Hours'] > median_val, 1, 0)\n",
    "\n",
    "# Add the new target column to the DataFrame\n",
    "data_preprocessed['Excessive Absenteeism'] = targets\n",
    "\n",
    "# Quick view of target distribution\n",
    "data_preprocessed['Excessive Absenteeism'].value_counts()\n"
   ]
  },
  {
   "cell_type": "markdown",
   "id": "212b342c-3ff2-4b4b-baea-716db35a8352",
   "metadata": {},
   "source": [
    "### 🧾 Target Distribution Visualization\n",
    "\n",
    "To ensure our dataset is **balanced**, we visualize the distribution of the newly created `Excessive Absenteeism` target variable.\n",
    "\n",
    "This helps us verify whether roughly half the data falls into each class (0 or 1), which is critical for training a fair and effective logistic regression model.\n"
   ]
  },
  {
   "cell_type": "code",
   "execution_count": 31,
   "id": "cb09345e-a819-4204-b4fe-3d1bf9e31162",
   "metadata": {},
   "outputs": [
    {
     "data": {
      "image/png": "[encoded data removed]",
      "text/plain": [
       "<Figure size 500x400 with 1 Axes>"
      ]
     },
     "metadata": {},
     "output_type": "display_data"
    }
   ],
   "source": [
    "# Plot distribution of the target variable\n",
    "plt.figure(figsize=(5, 4))\n",
    "sns.countplot(\n",
    "    x='Excessive Absenteeism',\n",
    "    hue='Excessive Absenteeism',      # use x as hue\n",
    "    data=data_preprocessed,\n",
    "    palette='Set2',\n",
    "    legend=False                      # suppress redundant legend\n",
    ")\n",
    "plt.title('Distribution of Target: Excessive Absenteeism')\n",
    "plt.xlabel('Excessive Absenteeism (0 = No, 1 = Yes)')\n",
    "plt.ylabel('Number of Records')\n",
    "plt.show()\n",
    "\n"
   ]
  },
  {
   "cell_type": "markdown",
   "id": "ba9da7e3-6ccd-4e82-b681-8eda0be19ea0",
   "metadata": {},
   "source": [
    "### 🔍 A Comment on the Targets\n",
    "\n",
    "To evaluate whether our dataset is **balanced**, we calculate the proportion of observations labeled as `1` (i.e., employees showing excessive absenteeism).\n",
    "\n",
    "A balanced target variable is important when training classification models like logistic regression, as it helps prevent model bias toward the majority class.\n",
    "\n",
    "After checking the balance, we create a **checkpoint DataFrame** by dropping the original `Absenteeism Time in Hours` column (no longer needed for modeling). We also validate that the new DataFrame is a separate object and not just a reference.\n"
   ]
  },
  {
   "cell_type": "code",
   "execution_count": 32,
   "id": "97a428b8-b2fd-4488-9879-55403fe27430",
   "metadata": {},
   "outputs": [
    {
     "name": "stdout",
     "output_type": "stream",
     "text": [
      "Proportion of 'Excessive Absenteeism' cases (1s): 0.46\n",
      "Checkpoint successful: True\n"
     ]
    }
   ],
   "source": [
    "# Check target balance: what % of observations are '1'\n",
    "target_ratio = targets.sum() / targets.shape[0]\n",
    "print(\"Proportion of 'Excessive Absenteeism' cases (1s):\", round(target_ratio, 2))\n",
    "\n",
    "# Create a checkpoint dataframe for modeling\n",
    "data_with_targets = data_preprocessed.drop(['Absenteeism Time in Hours'], axis=1)\n",
    "\n",
    "# Validate it's a true copy (not pointing to same object)\n",
    "print(\"Checkpoint successful:\", data_with_targets is not data_preprocessed)\n"
   ]
  },
  {
   "cell_type": "code",
   "execution_count": 33,
   "id": "8a335624-967d-47cd-ba52-7b3a7e6d5a11",
   "metadata": {},
   "outputs": [
    {
     "data": {
      "text/html": [
       "<div>\n",
       "<style scoped>\n",
       "    .dataframe tbody tr th:only-of-type {\n",
       "        vertical-align: middle;\n",
       "    }\n",
       "\n",
       "    .dataframe tbody tr th {\n",
       "        vertical-align: top;\n",
       "    }\n",
       "\n",
       "    .dataframe thead th {\n",
       "        text-align: right;\n",
       "    }\n",
       "</style>\n",
       "<table border=\"1\" class=\"dataframe\">\n",
       "  <thead>\n",
       "    <tr style=\"text-align: right;\">\n",
       "      <th></th>\n",
       "      <th>Reason_1</th>\n",
       "      <th>Reason_2</th>\n",
       "      <th>Reason_3</th>\n",
       "      <th>Reason_4</th>\n",
       "      <th>Month of absence</th>\n",
       "      <th>Day of the week</th>\n",
       "      <th>Transportation Expense</th>\n",
       "      <th>Distance to Work</th>\n",
       "      <th>Age</th>\n",
       "      <th>Daily Work Load Average</th>\n",
       "      <th>Body Mass Index</th>\n",
       "      <th>Education</th>\n",
       "      <th>Children</th>\n",
       "      <th>Pets</th>\n",
       "      <th>Excessive Absenteeism</th>\n",
       "    </tr>\n",
       "  </thead>\n",
       "  <tbody>\n",
       "    <tr>\n",
       "      <th>0</th>\n",
       "      <td>0</td>\n",
       "      <td>0</td>\n",
       "      <td>0</td>\n",
       "      <td>1</td>\n",
       "      <td>7</td>\n",
       "      <td>2</td>\n",
       "      <td>289</td>\n",
       "      <td>36</td>\n",
       "      <td>33</td>\n",
       "      <td>239.554</td>\n",
       "      <td>30</td>\n",
       "      <td>1</td>\n",
       "      <td>2</td>\n",
       "      <td>1</td>\n",
       "      <td>1</td>\n",
       "    </tr>\n",
       "    <tr>\n",
       "      <th>1</th>\n",
       "      <td>0</td>\n",
       "      <td>0</td>\n",
       "      <td>0</td>\n",
       "      <td>0</td>\n",
       "      <td>7</td>\n",
       "      <td>2</td>\n",
       "      <td>118</td>\n",
       "      <td>13</td>\n",
       "      <td>50</td>\n",
       "      <td>239.554</td>\n",
       "      <td>31</td>\n",
       "      <td>1</td>\n",
       "      <td>1</td>\n",
       "      <td>0</td>\n",
       "      <td>0</td>\n",
       "    </tr>\n",
       "    <tr>\n",
       "      <th>2</th>\n",
       "      <td>0</td>\n",
       "      <td>0</td>\n",
       "      <td>0</td>\n",
       "      <td>1</td>\n",
       "      <td>7</td>\n",
       "      <td>3</td>\n",
       "      <td>179</td>\n",
       "      <td>51</td>\n",
       "      <td>38</td>\n",
       "      <td>239.554</td>\n",
       "      <td>31</td>\n",
       "      <td>1</td>\n",
       "      <td>0</td>\n",
       "      <td>0</td>\n",
       "      <td>0</td>\n",
       "    </tr>\n",
       "  </tbody>\n",
       "</table>\n",
       "</div>"
      ],
      "text/plain": [
       "   Reason_1  Reason_2  Reason_3  Reason_4  Month of absence  Day of the week  \\\n",
       "0         0         0         0         1                 7                2   \n",
       "1         0         0         0         0                 7                2   \n",
       "2         0         0         0         1                 7                3   \n",
       "\n",
       "   Transportation Expense  Distance to Work  Age  Daily Work Load Average  \\\n",
       "0                     289                36   33                  239.554   \n",
       "1                     118                13   50                  239.554   \n",
       "2                     179                51   38                  239.554   \n",
       "\n",
       "   Body Mass Index  Education  Children  Pets  Excessive Absenteeism  \n",
       "0               30          1         2     1                      1  \n",
       "1               31          1         1     0                      0  \n",
       "2               31          1         0     0                      0  "
      ]
     },
     "execution_count": 33,
     "metadata": {},
     "output_type": "execute_result"
    }
   ],
   "source": [
    "data_with_targets.head(3)"
   ]
  },
  {
   "cell_type": "markdown",
   "id": "aaeae5b5-fc84-439d-8913-b4ee9e022a2f",
   "metadata": {},
   "source": [
    "### 🧮 Selecting Inputs for the Logistic Regression\n",
    "\n",
    "To train a logistic regression model, we need to separate the features (inputs) from the target variable.\n",
    "\n",
    "Since we already created the `Excessive Absenteeism` target in the last column of our dataset, we can simply select all columns **except the last one** to use as inputs.\n",
    "\n",
    "We'll also verify the structure of the dataset and store the input features in a separate variable called `unscaled_inputs` for further processing like scaling.\n"
   ]
  },
  {
   "cell_type": "code",
   "execution_count": 34,
   "id": "7b933cfd-9619-42d9-813a-d30b8779f006",
   "metadata": {},
   "outputs": [
    {
     "name": "stdout",
     "output_type": "stream",
     "text": [
      "Shape of data with targets: (700, 15)\n",
      "   Reason_1  Reason_2  Reason_3  Reason_4  Month of absence  Day of the week  \\\n",
      "0         0         0         0         1                 7                2   \n",
      "1         0         0         0         0                 7                2   \n",
      "2         0         0         0         1                 7                3   \n",
      "3         1         0         0         0                 7                4   \n",
      "4         0         0         0         1                 7                4   \n",
      "\n",
      "   Transportation Expense  Distance to Work  Age  Daily Work Load Average  \\\n",
      "0                     289                36   33                  239.554   \n",
      "1                     118                13   50                  239.554   \n",
      "2                     179                51   38                  239.554   \n",
      "3                     279                 5   39                  239.554   \n",
      "4                     289                36   33                  239.554   \n",
      "\n",
      "   Body Mass Index  Education  Children  Pets  \n",
      "0               30          1         2     1  \n",
      "1               31          1         1     0  \n",
      "2               31          1         0     0  \n",
      "3               24          1         2     0  \n",
      "4               30          1         2     1  \n"
     ]
    }
   ],
   "source": [
    "# Check shape of dataset (rows, columns)\n",
    "print(\"Shape of data with targets:\", data_with_targets.shape)\n",
    "\n",
    "# Preview feature columns (excluding the target)\n",
    "print(data_with_targets.iloc[:, :-1].head())\n",
    "\n",
    "# Select input features (excluding target column)\n",
    "unscaled_inputs = data_with_targets.iloc[:, :-1]\n"
   ]
  },
  {
   "cell_type": "markdown",
   "id": "967a9c6a-23fe-4844-a3dc-3925aeb198b9",
   "metadata": {},
   "source": [
    "### 📏 Standardizing the Input Features\n",
    "\n",
    "Standardization is an essential step in most machine learning workflows. It transforms input features so that they have:\n",
    "\n",
    "- A mean of **0**\n",
    "- A standard deviation of **1**\n",
    "\n",
    "This ensures that no single feature dominates due to its scale, which is particularly important for models like logistic regression that are sensitive to magnitude differences.\n",
    "\n",
    "We'll use `StandardScaler` from `sklearn.preprocessing` to:\n",
    "1. Fit the scaler to the unscaled input features\n",
    "2. Transform the inputs using the computed mean and standard deviation\n",
    "\n",
    "This results in a new dataset where all features are on a standardized scale, stored in the `scaled_inputs` variable.\n"
   ]
  },
  {
   "cell_type": "code",
   "execution_count": 40,
   "id": "fc73b7d2-20c0-4e15-9904-119acd592a61",
   "metadata": {},
   "outputs": [],
   "source": [
    "from sklearn.preprocessing import StandardScaler\n",
    "\n",
    "# Initialize the StandardScaler object\n",
    "absenteeism_scaler = StandardScaler()"
   ]
  },
  {
   "cell_type": "markdown",
   "id": "9f0e60ad-f44d-4312-916c-4bb9f94d35a0",
   "metadata": {},
   "source": [
    "### ⚠️ Why We Omit Dummy Variables from Scaling\n",
    "\n",
    "When performing feature scaling (e.g., using `StandardScaler`), we **only scale numerical (continuous) features**, and **omit dummy or categorical variables** such as:\n",
    "\n",
    "- `Reason_1`, `Reason_2`, `Reason_3`, `Reason_4` (dummy-encoded absence reasons)\n",
    "- `Education` (categorical as integers)\n",
    "\n",
    "#### 🧠 Why omit these columns?\n",
    "\n",
    "Dummy variables are binary (0 or 1), representing **the presence or absence of a category**. Scaling these values can distort their meaning:\n",
    "\n",
    "| Original Value | Scaled Value (Incorrect Example) |\n",
    "|----------------|----------------------------------|\n",
    "| 0              | -0.5                             |\n",
    "| 1              | +0.5                             |\n",
    "\n",
    "This transformation removes the interpretability of 0/1 and **breaks their categorical identity**.\n",
    "\n",
    "#### 🚫 What happens if we scale dummy columns?\n",
    "\n",
    "- The model may **misinterpret these features** as continuous, which could:\n",
    "  - Reduce performance\n",
    "  - Introduce noise\n",
    "  - Lead to incorrect coefficient interpretation\n",
    "\n",
    "#### ✅ Best Practice:\n",
    "\n",
    "- **Omit dummy/categorical columns** during scaling.\n",
    "- Only **scale continuous numerical columns** such as:\n",
    "  - Age\n",
    "  - Distance to Work\n",
    "  - Daily Work Load Average\n",
    "  - BMI, etc.\n",
    "\n",
    "This ensures our logistic regression model is trained on appropriately transformed data without corrupting categorical meanings.\n"
   ]
  },
  {
   "cell_type": "code",
   "execution_count": 41,
   "id": "ccfa33be-c000-40b5-9499-a6e36d87e07b",
   "metadata": {},
   "outputs": [],
   "source": [
    "# Identify columns to scale (exclude dummies like Reason_1 to Reason_4 and Education)\n",
    "columns_to_omit = ['Reason_1', 'Reason_2', 'Reason_3', 'Reason_4', 'Education']\n",
    "columns_to_scale = [col for col in unscaled_inputs.columns if col not in columns_to_omit]\n",
    "\n",
    "# Scale only the selected columns\n",
    "scaler = StandardScaler()\n",
    "scaled_part = scaler.fit_transform(unscaled_inputs[columns_to_scale])\n",
    "\n",
    "# Create a DataFrame from the scaled data\n",
    "scaled_df = pd.DataFrame(scaled_part, columns=columns_to_scale)\n",
    "\n",
    "# Combine the unscaled (dummy) columns with the scaled numeric columns\n",
    "unscaled_part = unscaled_inputs[columns_to_omit].reset_index(drop=True)\n",
    "final_inputs = pd.concat([unscaled_part, scaled_df], axis=1)\n",
    "\n",
    "# Optional: maintain the original column order (if needed)\n",
    "final_inputs = final_inputs[unscaled_inputs.columns]\n"
   ]
  },
  {
   "cell_type": "markdown",
   "id": "3b3eef14-6ed2-4b2c-8eeb-2f101fe75efb",
   "metadata": {},
   "source": [
    "### 🧪 Splitting the Data into Training and Test Sets\n",
    "\n",
    "Before training our logistic regression model, we need to split the dataset into **training** and **test** sets. This allows us to evaluate how well the model generalizes to unseen data.\n",
    "\n",
    "We’ll use `train_test_split` from `sklearn.model_selection`, which also lets us **shuffle** the data to ensure randomness.\n",
    "\n",
    "Typical steps:\n",
    "- Use 80% of the data for training\n",
    "- Use 20% for testing\n",
    "- Enable `shuffle=True` for randomness\n",
    "- Set a `random_state` for reproducibility\n"
   ]
  },
  {
   "cell_type": "code",
   "execution_count": 42,
   "id": "31228728-b247-49b4-8c55-c97e211c1648",
   "metadata": {},
   "outputs": [
    {
     "name": "stdout",
     "output_type": "stream",
     "text": [
      "Training set shape (inputs): (560, 14)\n",
      "Test set shape (inputs): (140, 14)\n",
      "Training set shape (targets): (560,)\n",
      "Test set shape (targets): (140,)\n"
     ]
    }
   ],
   "source": [
    "from sklearn.model_selection import train_test_split\n",
    "\n",
    "# Split into training and test sets\n",
    "# test_size=0.2 means 20% of the data goes to the test set\n",
    "# random_state ensures reproducibility\n",
    "x_train, x_test, y_train, y_test = train_test_split(\n",
    "    scaled_inputs,\n",
    "    targets,\n",
    "    test_size=0.2,\n",
    "    shuffle=True,\n",
    "    random_state=42\n",
    ")\n",
    "\n",
    "# Check the shapes of the output arrays\n",
    "print(\"Training set shape (inputs):\", x_train.shape)\n",
    "print(\"Test set shape (inputs):\", x_test.shape)\n",
    "print(\"Training set shape (targets):\", y_train.shape)\n",
    "print(\"Test set shape (targets):\", y_test.shape)\n"
   ]
  },
  {
   "cell_type": "markdown",
   "id": "507caaaf-1baa-4de5-8b8a-f874acc77328",
   "metadata": {},
   "source": [
    "## Why Logistic Regression?\n",
    "\n",
    "We're solving a **classification problem** — specifically, predicting whether an employee's absenteeism is excessive (1) or not (0). Since the target is **binary**, logistic regression is the most suitable choice.\n",
    "\n",
    "### 🛠 Why Not Linear Regression?\n",
    "Linear regression is used for continuous numerical outputs. If we used it here, it might predict values like 0.4 or 1.7, which don’t make sense for binary outcomes. Also, linear regression does not constrain predictions between 0 and 1, making it unreliable for classification tasks.\n",
    "\n",
    "### ✅ Why Logistic Regression Works Here\n",
    "- It predicts **probabilities** between 0 and 1.\n",
    "- It’s **interpretable**, showing how each feature influences the odds of excessive absenteeism.\n",
    "- It’s **lightweight and fast**, making it great for baseline models or deployment.\n",
    "\n",
    "### 🧠 Alternative Models (if needed later):\n",
    "If performance needs to be improved, we could try:\n",
    "- Decision Trees\n",
    "- Random Forests\n",
    "- Support Vector Machines (SVM)\n",
    "- Gradient Boosted Models like XGBoost or LightGBM\n",
    "\n",
    "But logistic regression gives us a solid, interpretable baseline to start with.\n"
   ]
  },
  {
   "cell_type": "markdown",
   "id": "10a0758f-937d-4318-a03f-f216ca5b8d10",
   "metadata": {},
   "source": [
    "### 📈 Logistic Regression with scikit-learn\n",
    "\n",
    "Now that we have preprocessed and split the data, we move on to building the actual **logistic regression model** using scikit-learn.\n",
    "\n",
    "Steps involved:\n",
    "1. **Import** the necessary modules:\n",
    "   - `LogisticRegression` from `sklearn.linear_model` for building the model.\n",
    "   - `metrics` from `sklearn` to evaluate the model later.\n",
    "2. **Instantiate** the logistic regression model.\n",
    "3. **Fit** the model using the training data (`x_train`, `y_train`).\n",
    "4. **Check the accuracy** on the training data.\n"
   ]
  },
  {
   "cell_type": "code",
   "execution_count": 43,
   "id": "eb208e85-2ef9-45ee-84cf-55d9390efea4",
   "metadata": {},
   "outputs": [
    {
     "name": "stdout",
     "output_type": "stream",
     "text": [
      "Training Accuracy: 0.775\n"
     ]
    }
   ],
   "source": [
    "# Import the logistic regression model\n",
    "from sklearn.linear_model import LogisticRegression\n",
    "\n",
    "# Import evaluation metrics\n",
    "from sklearn import metrics\n",
    "\n",
    "# Instantiate the model\n",
    "reg = LogisticRegression()\n",
    "\n",
    "# Fit the model with training data\n",
    "reg.fit(x_train, y_train)\n",
    "\n",
    "# Print training accuracy\n",
    "train_accuracy = reg.score(x_train, y_train)\n",
    "print(\"Training Accuracy:\", train_accuracy)\n"
   ]
  },
  {
   "cell_type": "markdown",
   "id": "b06e5dde-c771-4208-aa4a-be1ca10693a2",
   "metadata": {},
   "source": [
    "### 📌 Manually Checking Accuracy of the Model\n"
   ]
  },
  {
   "cell_type": "code",
   "execution_count": 39,
   "id": "bbb2c1c9-8ee5-4ea0-8a6c-8fe1d3242a16",
   "metadata": {},
   "outputs": [
    {
     "name": "stdout",
     "output_type": "stream",
     "text": [
      "Manual accuracy: 0.7750\n"
     ]
    }
   ],
   "source": [
    "\n",
    "\n",
    "# Predict the outputs using the trained model\n",
    "model_outputs = reg.predict(x_train)\n",
    "\n",
    "# Compare predictions to actual values\n",
    "correct_predictions = model_outputs == y_train\n",
    "\n",
    "# Count how many predictions were correct\n",
    "num_correct = np.sum(correct_predictions)\n",
    "\n",
    "# Total number of predictions\n",
    "total_predictions = model_outputs.shape[0]\n",
    "\n",
    "# Calculate accuracy\n",
    "manual_accuracy = num_correct / total_predictions\n",
    "\n",
    "# Display result\n",
    "print(f\"Manual accuracy: {manual_accuracy:.4f}\")\n"
   ]
  },
  {
   "cell_type": "markdown",
   "id": "18c94abe-a25c-4a0c-9a62-bb9aae0638d2",
   "metadata": {},
   "source": [
    "### 📌 Finding the Intercept and Coefficients\n",
    "\n",
    "After training the logistic regression model, we extract the following:\n",
    "\n",
    "- **Intercept**: Represents the base log-odds of excessive absenteeism when all features are 0.\n",
    "- **Coefficients**: Indicate how a 1-unit increase in each feature affects the log-odds of the target.\n",
    "\n",
    "**Interpretation:**\n",
    "\n",
    "- ➕ A **positive coefficient** increases the probability of excessive absenteeism.\n",
    "- ➖ A **negative coefficient** decreases the probability of excessive absenteeism.\n"
   ]
  },
  {
   "cell_type": "code",
   "execution_count": 45,
   "id": "debdbe5d-b4eb-4bca-ab37-b1c9acc69b39",
   "metadata": {},
   "outputs": [
    {
     "data": {
      "text/plain": [
       "array([-0.18118731])"
      ]
     },
     "execution_count": 45,
     "metadata": {},
     "output_type": "execute_result"
    }
   ],
   "source": [
    "# Get the intercept (bias) of our logistic regression model\n",
    "reg.intercept_"
   ]
  },
  {
   "cell_type": "code",
   "execution_count": 46,
   "id": "b41cd6ca-6edd-4bed-b83c-b5a197581a4a",
   "metadata": {},
   "outputs": [
    {
     "data": {
      "text/plain": [
       "array([[ 2.1393045 ,  0.3407568 ,  1.5337288 ,  1.41381714,  0.0954255 ,\n",
       "        -0.15011555,  0.78731337, -0.09527888, -0.28597909, -0.01238617,\n",
       "         0.28836435, -0.14031269,  0.42509575, -0.36272937]])"
      ]
     },
     "execution_count": 46,
     "metadata": {},
     "output_type": "execute_result"
    }
   ],
   "source": [
    "# Get the coefficients (weights) of each feature\n",
    "reg.coef_"
   ]
  },
  {
   "cell_type": "code",
   "execution_count": 47,
   "id": "55fde1d9-7cac-47ec-9cb5-b8909958bd5b",
   "metadata": {},
   "outputs": [
    {
     "data": {
      "text/plain": [
       "array(['Reason_1', 'Reason_2', 'Reason_3', 'Reason_4', 'Month of absence',\n",
       "       'Day of the week', 'Transportation Expense', 'Distance to Work',\n",
       "       'Age', 'Daily Work Load Average', 'Body Mass Index', 'Education',\n",
       "       'Children', 'Pets'], dtype=object)"
      ]
     },
     "execution_count": 47,
     "metadata": {},
     "output_type": "execute_result"
    }
   ],
   "source": [
    "# Check the names of the input columns used in the model\n",
    "unscaled_inputs.columns.values"
   ]
  },
  {
   "cell_type": "code",
   "execution_count": 48,
   "id": "973e74c1-e3eb-41f0-886a-046f68328840",
   "metadata": {},
   "outputs": [],
   "source": [
    "# Save the feature names for reference\n",
    "feature_name = unscaled_inputs.columns.values"
   ]
  },
  {
   "cell_type": "code",
   "execution_count": 44,
   "id": "7a5b16ef-494b-4266-b578-43b8f7a33388",
   "metadata": {},
   "outputs": [
    {
     "data": {
      "text/html": [
       "<div>\n",
       "<style scoped>\n",
       "    .dataframe tbody tr th:only-of-type {\n",
       "        vertical-align: middle;\n",
       "    }\n",
       "\n",
       "    .dataframe tbody tr th {\n",
       "        vertical-align: top;\n",
       "    }\n",
       "\n",
       "    .dataframe thead th {\n",
       "        text-align: right;\n",
       "    }\n",
       "</style>\n",
       "<table border=\"1\" class=\"dataframe\">\n",
       "  <thead>\n",
       "    <tr style=\"text-align: right;\">\n",
       "      <th></th>\n",
       "      <th>Feature name</th>\n",
       "      <th>Coefficient</th>\n",
       "    </tr>\n",
       "  </thead>\n",
       "  <tbody>\n",
       "    <tr>\n",
       "      <th>0</th>\n",
       "      <td>Intercept</td>\n",
       "      <td>-0.181187</td>\n",
       "    </tr>\n",
       "    <tr>\n",
       "      <th>1</th>\n",
       "      <td>Reason_1</td>\n",
       "      <td>2.139305</td>\n",
       "    </tr>\n",
       "    <tr>\n",
       "      <th>2</th>\n",
       "      <td>Reason_2</td>\n",
       "      <td>0.340757</td>\n",
       "    </tr>\n",
       "    <tr>\n",
       "      <th>3</th>\n",
       "      <td>Reason_3</td>\n",
       "      <td>1.533729</td>\n",
       "    </tr>\n",
       "    <tr>\n",
       "      <th>4</th>\n",
       "      <td>Reason_4</td>\n",
       "      <td>1.413817</td>\n",
       "    </tr>\n",
       "    <tr>\n",
       "      <th>5</th>\n",
       "      <td>Month of absence</td>\n",
       "      <td>0.095426</td>\n",
       "    </tr>\n",
       "    <tr>\n",
       "      <th>6</th>\n",
       "      <td>Day of the week</td>\n",
       "      <td>-0.150116</td>\n",
       "    </tr>\n",
       "    <tr>\n",
       "      <th>7</th>\n",
       "      <td>Transportation Expense</td>\n",
       "      <td>0.787313</td>\n",
       "    </tr>\n",
       "    <tr>\n",
       "      <th>8</th>\n",
       "      <td>Distance to Work</td>\n",
       "      <td>-0.095279</td>\n",
       "    </tr>\n",
       "    <tr>\n",
       "      <th>9</th>\n",
       "      <td>Age</td>\n",
       "      <td>-0.285979</td>\n",
       "    </tr>\n",
       "    <tr>\n",
       "      <th>10</th>\n",
       "      <td>Daily Work Load Average</td>\n",
       "      <td>-0.012386</td>\n",
       "    </tr>\n",
       "    <tr>\n",
       "      <th>11</th>\n",
       "      <td>Body Mass Index</td>\n",
       "      <td>0.288364</td>\n",
       "    </tr>\n",
       "    <tr>\n",
       "      <th>12</th>\n",
       "      <td>Education</td>\n",
       "      <td>-0.140313</td>\n",
       "    </tr>\n",
       "    <tr>\n",
       "      <th>13</th>\n",
       "      <td>Children</td>\n",
       "      <td>0.425096</td>\n",
       "    </tr>\n",
       "    <tr>\n",
       "      <th>14</th>\n",
       "      <td>Pets</td>\n",
       "      <td>-0.362729</td>\n",
       "    </tr>\n",
       "  </tbody>\n",
       "</table>\n",
       "</div>"
      ],
      "text/plain": [
       "               Feature name  Coefficient\n",
       "0                 Intercept    -0.181187\n",
       "1                  Reason_1     2.139305\n",
       "2                  Reason_2     0.340757\n",
       "3                  Reason_3     1.533729\n",
       "4                  Reason_4     1.413817\n",
       "5          Month of absence     0.095426\n",
       "6           Day of the week    -0.150116\n",
       "7    Transportation Expense     0.787313\n",
       "8          Distance to Work    -0.095279\n",
       "9                       Age    -0.285979\n",
       "10  Daily Work Load Average    -0.012386\n",
       "11          Body Mass Index     0.288364\n",
       "12                Education    -0.140313\n",
       "13                 Children     0.425096\n",
       "14                     Pets    -0.362729"
      ]
     },
     "execution_count": 44,
     "metadata": {},
     "output_type": "execute_result"
    }
   ],
   "source": [
    "# Create a summary table to pair feature names with their corresponding coefficients\n",
    "summary_table = pd.DataFrame(columns=['Feature name'], data=feature_name)\n",
    "\n",
    "# Add the coefficient values to the table\n",
    "summary_table['Coefficient'] = np.transpose(reg.coef_)\n",
    "\n",
    "# Shift index by 1 to insert the intercept at the top\n",
    "summary_table.index = summary_table.index + 1\n",
    "\n",
    "# Add intercept to the top of the summary table\n",
    "summary_table.loc[0] = ['Intercept', reg.intercept_[0]]\n",
    "\n",
    "# Sort the DataFrame by index to maintain correct order\n",
    "summary_table = summary_table.sort_index()\n",
    "\n",
    "# Display the summary table\n",
    "summary_table\n"
   ]
  },
  {
   "cell_type": "markdown",
   "id": "0c3bf387-fc8f-4673-a1c9-6f029b010473",
   "metadata": {},
   "source": [
    "### 📊 Interpreting the Coefficients (Odds Ratios)\n",
    "\n",
    "To make the logistic regression coefficients more interpretable, we convert them to **odds ratios**:\n",
    "\n",
    "- The **odds ratio** is obtained by exponentiating the coefficient using `np.exp(coef)`.\n",
    "- It shows how the odds of excessive absenteeism change with a 1-unit increase in the corresponding feature.\n",
    "\n",
    "**Interpretation:**\n",
    "- Odds Ratio > 1 → Feature **increases** the likelihood of excessive absenteeism.\n",
    "- Odds Ratio < 1 → Feature **decreases** the likelihood.\n",
    "- Odds Ratio ≈ 1 → Feature has **little to no effect**.\n",
    "\n",
    "We can then sort the summary table by odds ratio to identify the strongest predictors.\n"
   ]
  },
  {
   "cell_type": "code",
   "execution_count": 49,
   "id": "f106a1c9-3f99-4da4-b454-a75e5d7ad5c0",
   "metadata": {},
   "outputs": [
    {
     "data": {
      "text/html": [
       "<div>\n",
       "<style scoped>\n",
       "    .dataframe tbody tr th:only-of-type {\n",
       "        vertical-align: middle;\n",
       "    }\n",
       "\n",
       "    .dataframe tbody tr th {\n",
       "        vertical-align: top;\n",
       "    }\n",
       "\n",
       "    .dataframe thead th {\n",
       "        text-align: right;\n",
       "    }\n",
       "</style>\n",
       "<table border=\"1\" class=\"dataframe\">\n",
       "  <thead>\n",
       "    <tr style=\"text-align: right;\">\n",
       "      <th></th>\n",
       "      <th>Feature name</th>\n",
       "      <th>Coefficient</th>\n",
       "      <th>Odds_ratio</th>\n",
       "    </tr>\n",
       "  </thead>\n",
       "  <tbody>\n",
       "    <tr>\n",
       "      <th>1</th>\n",
       "      <td>Reason_1</td>\n",
       "      <td>2.139305</td>\n",
       "      <td>8.493528</td>\n",
       "    </tr>\n",
       "    <tr>\n",
       "      <th>3</th>\n",
       "      <td>Reason_3</td>\n",
       "      <td>1.533729</td>\n",
       "      <td>4.635429</td>\n",
       "    </tr>\n",
       "    <tr>\n",
       "      <th>4</th>\n",
       "      <td>Reason_4</td>\n",
       "      <td>1.413817</td>\n",
       "      <td>4.111620</td>\n",
       "    </tr>\n",
       "    <tr>\n",
       "      <th>7</th>\n",
       "      <td>Transportation Expense</td>\n",
       "      <td>0.787313</td>\n",
       "      <td>2.197485</td>\n",
       "    </tr>\n",
       "    <tr>\n",
       "      <th>13</th>\n",
       "      <td>Children</td>\n",
       "      <td>0.425096</td>\n",
       "      <td>1.529737</td>\n",
       "    </tr>\n",
       "    <tr>\n",
       "      <th>2</th>\n",
       "      <td>Reason_2</td>\n",
       "      <td>0.340757</td>\n",
       "      <td>1.406011</td>\n",
       "    </tr>\n",
       "    <tr>\n",
       "      <th>11</th>\n",
       "      <td>Body Mass Index</td>\n",
       "      <td>0.288364</td>\n",
       "      <td>1.334243</td>\n",
       "    </tr>\n",
       "    <tr>\n",
       "      <th>5</th>\n",
       "      <td>Month of absence</td>\n",
       "      <td>0.095426</td>\n",
       "      <td>1.100127</td>\n",
       "    </tr>\n",
       "    <tr>\n",
       "      <th>10</th>\n",
       "      <td>Daily Work Load Average</td>\n",
       "      <td>-0.012386</td>\n",
       "      <td>0.987690</td>\n",
       "    </tr>\n",
       "    <tr>\n",
       "      <th>8</th>\n",
       "      <td>Distance to Work</td>\n",
       "      <td>-0.095279</td>\n",
       "      <td>0.909119</td>\n",
       "    </tr>\n",
       "    <tr>\n",
       "      <th>12</th>\n",
       "      <td>Education</td>\n",
       "      <td>-0.140313</td>\n",
       "      <td>0.869086</td>\n",
       "    </tr>\n",
       "    <tr>\n",
       "      <th>6</th>\n",
       "      <td>Day of the week</td>\n",
       "      <td>-0.150116</td>\n",
       "      <td>0.860609</td>\n",
       "    </tr>\n",
       "    <tr>\n",
       "      <th>0</th>\n",
       "      <td>Intercept</td>\n",
       "      <td>-0.181187</td>\n",
       "      <td>0.834279</td>\n",
       "    </tr>\n",
       "    <tr>\n",
       "      <th>9</th>\n",
       "      <td>Age</td>\n",
       "      <td>-0.285979</td>\n",
       "      <td>0.751278</td>\n",
       "    </tr>\n",
       "    <tr>\n",
       "      <th>14</th>\n",
       "      <td>Pets</td>\n",
       "      <td>-0.362729</td>\n",
       "      <td>0.695775</td>\n",
       "    </tr>\n",
       "  </tbody>\n",
       "</table>\n",
       "</div>"
      ],
      "text/plain": [
       "               Feature name  Coefficient  Odds_ratio\n",
       "1                  Reason_1     2.139305    8.493528\n",
       "3                  Reason_3     1.533729    4.635429\n",
       "4                  Reason_4     1.413817    4.111620\n",
       "7    Transportation Expense     0.787313    2.197485\n",
       "13                 Children     0.425096    1.529737\n",
       "2                  Reason_2     0.340757    1.406011\n",
       "11          Body Mass Index     0.288364    1.334243\n",
       "5          Month of absence     0.095426    1.100127\n",
       "10  Daily Work Load Average    -0.012386    0.987690\n",
       "8          Distance to Work    -0.095279    0.909119\n",
       "12                Education    -0.140313    0.869086\n",
       "6           Day of the week    -0.150116    0.860609\n",
       "0                 Intercept    -0.181187    0.834279\n",
       "9                       Age    -0.285979    0.751278\n",
       "14                     Pets    -0.362729    0.695775"
      ]
     },
     "execution_count": 49,
     "metadata": {},
     "output_type": "execute_result"
    }
   ],
   "source": [
    "# Calculate the Odds Ratio for each feature\n",
    "summary_table['Odds_ratio'] = np.exp(summary_table['Coefficient'])\n",
    "\n",
    "# Display the updated summary table with odds ratios\n",
    "summary_table\n",
    "\n",
    "# Sort the table based on odds ratio (descending)\n",
    "summary_table.sort_values('Odds_ratio', ascending=False)\n"
   ]
  },
  {
   "cell_type": "markdown",
   "id": "7ecc4272-2f5e-45c9-9399-4ffee6a2d6f2",
   "metadata": {},
   "source": [
    "### 🧪 Testing the Model\n",
    "\n",
    "After training the logistic regression model, we evaluate it on the test set to assess how well it performs on unseen data.\n",
    "\n",
    "This step gives us the **test accuracy** – the proportion of correctly predicted cases out of the total examples in the test set. A good test accuracy indicates that the model generalizes well beyond the training data.\n"
   ]
  },
  {
   "cell_type": "code",
   "execution_count": 50,
   "id": "19914e9d-65b9-4cea-a201-1160641a6320",
   "metadata": {},
   "outputs": [
    {
     "name": "stdout",
     "output_type": "stream",
     "text": [
      "Test Accuracy: 75.71 %\n"
     ]
    }
   ],
   "source": [
    "# Evaluate the logistic regression model on the test set\n",
    "test_accuracy = reg.score(x_test, y_test)\n",
    "print(\"Test Accuracy:\", round(test_accuracy * 100, 2), \"%\")\n"
   ]
  },
  {
   "cell_type": "markdown",
   "id": "21edc811-9882-481e-8121-05cc5786b5ef",
   "metadata": {},
   "source": [
    "### 📊 Predicting Probabilities\n",
    "\n",
    "Instead of just predicting class labels (0 or 1), we can also obtain the **predicted probabilities** for each class.\n",
    "\n",
    "- The logistic regression model provides a probability score for each observation.\n",
    "- The output has two columns:\n",
    "  - The first column contains the probability of class `0` (not excessively absent).\n",
    "  - The second column contains the probability of class `1` (excessively absent).\n",
    "\n",
    "These probabilities can be useful for threshold tuning or building decision systems based on risk scores.\n"
   ]
  },
  {
   "cell_type": "code",
   "execution_count": 51,
   "id": "e3e20fb1-baf0-4d36-93bf-dff9c4a8e0f3",
   "metadata": {},
   "outputs": [
    {
     "data": {
      "text/plain": [
       "array([[0.61655577, 0.38344423],\n",
       "       [0.89662863, 0.10337137],\n",
       "       [0.77872363, 0.22127637],\n",
       "       [0.56624944, 0.43375056],\n",
       "       [0.48962195, 0.51037805],\n",
       "       [0.06396316, 0.93603684],\n",
       "       [0.64757282, 0.35242718],\n",
       "       [0.31069183, 0.68930817],\n",
       "       [0.94291269, 0.05708731],\n",
       "       [0.72123219, 0.27876781],\n",
       "       [0.90819129, 0.09180871],\n",
       "       [0.69294028, 0.30705972],\n",
       "       [0.23827931, 0.76172069],\n",
       "       [0.48639875, 0.51360125],\n",
       "       [0.74926495, 0.25073505],\n",
       "       [0.48262168, 0.51737832],\n",
       "       [0.9879656 , 0.0120344 ],\n",
       "       [0.2170693 , 0.7829307 ],\n",
       "       [0.90982757, 0.09017243],\n",
       "       [0.57700667, 0.42299333],\n",
       "       [0.68475632, 0.31524368],\n",
       "       [0.7853182 , 0.2146818 ],\n",
       "       [0.67388732, 0.32611268],\n",
       "       [0.67563486, 0.32436514],\n",
       "       [0.87979246, 0.12020754],\n",
       "       [0.15530699, 0.84469301],\n",
       "       [0.58788818, 0.41211182],\n",
       "       [0.88123252, 0.11876748],\n",
       "       [0.802693  , 0.197307  ],\n",
       "       [0.60541854, 0.39458146],\n",
       "       [0.89991601, 0.10008399],\n",
       "       [0.85935661, 0.14064339],\n",
       "       [0.39252472, 0.60747528],\n",
       "       [0.423254  , 0.576746  ],\n",
       "       [0.7673475 , 0.2326525 ],\n",
       "       [0.27785049, 0.72214951],\n",
       "       [0.7168256 , 0.2831744 ],\n",
       "       [0.85624155, 0.14375845],\n",
       "       [0.08245472, 0.91754528],\n",
       "       [0.83812827, 0.16187173],\n",
       "       [0.47132491, 0.52867509],\n",
       "       [0.77087096, 0.22912904],\n",
       "       [0.41670547, 0.58329453],\n",
       "       [0.87957475, 0.12042525],\n",
       "       [0.81693836, 0.18306164],\n",
       "       [0.23754174, 0.76245826],\n",
       "       [0.14848897, 0.85151103],\n",
       "       [0.07559036, 0.92440964],\n",
       "       [0.66160322, 0.33839678],\n",
       "       [0.88687883, 0.11312117],\n",
       "       [0.77816529, 0.22183471],\n",
       "       [0.68158255, 0.31841745],\n",
       "       [0.53907697, 0.46092303],\n",
       "       [0.04670348, 0.95329652],\n",
       "       [0.8495485 , 0.1504515 ],\n",
       "       [0.7669764 , 0.2330236 ],\n",
       "       [0.0153227 , 0.9846773 ],\n",
       "       [0.72917565, 0.27082435],\n",
       "       [0.09907793, 0.90092207],\n",
       "       [0.53156952, 0.46843048],\n",
       "       [0.39118055, 0.60881945],\n",
       "       [0.87528447, 0.12471553],\n",
       "       [0.41755511, 0.58244489],\n",
       "       [0.30992614, 0.69007386],\n",
       "       [0.90819129, 0.09180871],\n",
       "       [0.88690546, 0.11309454],\n",
       "       [0.31623645, 0.68376355],\n",
       "       [0.99056402, 0.00943598],\n",
       "       [0.71762776, 0.28237224],\n",
       "       [0.51347084, 0.48652916],\n",
       "       [0.72123219, 0.27876781],\n",
       "       [0.78425924, 0.21574076],\n",
       "       [0.23387377, 0.76612623],\n",
       "       [0.68158255, 0.31841745],\n",
       "       [0.89346488, 0.10653512],\n",
       "       [0.31977489, 0.68022511],\n",
       "       [0.54709275, 0.45290725],\n",
       "       [0.80760693, 0.19239307],\n",
       "       [0.77506741, 0.22493259],\n",
       "       [0.89613326, 0.10386674],\n",
       "       [0.06396316, 0.93603684],\n",
       "       [0.06246334, 0.93753666],\n",
       "       [0.8655756 , 0.1344244 ],\n",
       "       [0.810928  , 0.189072  ],\n",
       "       [0.89039839, 0.10960161],\n",
       "       [0.36259554, 0.63740446],\n",
       "       [0.80841084, 0.19158916],\n",
       "       [0.09015524, 0.90984476],\n",
       "       [0.19361796, 0.80638204],\n",
       "       [0.68393645, 0.31606355],\n",
       "       [0.83146763, 0.16853237],\n",
       "       [0.36406744, 0.63593256],\n",
       "       [0.67552286, 0.32447714],\n",
       "       [0.74162406, 0.25837594],\n",
       "       [0.52703624, 0.47296376],\n",
       "       [0.08245472, 0.91754528],\n",
       "       [0.43361565, 0.56638435],\n",
       "       [0.03255795, 0.96744205],\n",
       "       [0.35382485, 0.64617515],\n",
       "       [0.20872339, 0.79127661],\n",
       "       [0.71095107, 0.28904893],\n",
       "       [0.29513734, 0.70486266],\n",
       "       [0.8012724 , 0.1987276 ],\n",
       "       [0.17236776, 0.82763224],\n",
       "       [0.88381112, 0.11618888],\n",
       "       [0.39900515, 0.60099485],\n",
       "       [0.1132306 , 0.8867694 ],\n",
       "       [0.83812827, 0.16187173],\n",
       "       [0.89441696, 0.10558304],\n",
       "       [0.35665319, 0.64334681],\n",
       "       [0.27985893, 0.72014107],\n",
       "       [0.38448189, 0.61551811],\n",
       "       [0.50575175, 0.49424825],\n",
       "       [0.66332427, 0.33667573],\n",
       "       [0.23020808, 0.76979192],\n",
       "       [0.51902286, 0.48097714],\n",
       "       [0.67154   , 0.32846   ],\n",
       "       [0.06948627, 0.93051373],\n",
       "       [0.47191023, 0.52808977],\n",
       "       [0.08204211, 0.91795789],\n",
       "       [0.74338551, 0.25661449],\n",
       "       [0.18408324, 0.81591676],\n",
       "       [0.16366522, 0.83633478],\n",
       "       [0.23963159, 0.76036841],\n",
       "       [0.23861395, 0.76138605],\n",
       "       [0.68549876, 0.31450124],\n",
       "       [0.8012724 , 0.1987276 ],\n",
       "       [0.70657435, 0.29342565],\n",
       "       [0.29595511, 0.70404489],\n",
       "       [0.83931245, 0.16068755],\n",
       "       [0.64985126, 0.35014874],\n",
       "       [0.66645283, 0.33354717],\n",
       "       [0.15692776, 0.84307224],\n",
       "       [0.48343227, 0.51656773],\n",
       "       [0.66377619, 0.33622381],\n",
       "       [0.03105732, 0.96894268],\n",
       "       [0.49156144, 0.50843856],\n",
       "       [0.37854033, 0.62145967],\n",
       "       [0.60396786, 0.39603214],\n",
       "       [0.87904604, 0.12095396]])"
      ]
     },
     "execution_count": 51,
     "metadata": {},
     "output_type": "execute_result"
    }
   ],
   "source": [
    "# Get predicted probabilities for each class\n",
    "# [:, 0] = probability of class 0\n",
    "# [:, 1] = probability of class 1\n",
    "predicted_proba = reg.predict_proba(x_test)\n",
    "\n",
    "# Display the predicted probabilities\n",
    "predicted_proba\n"
   ]
  },
  {
   "cell_type": "code",
   "execution_count": 52,
   "id": "760a23bf-f48f-4266-8767-dc9c2e968aa5",
   "metadata": {},
   "outputs": [
    {
     "data": {
      "text/plain": [
       "(140, 2)"
      ]
     },
     "execution_count": 52,
     "metadata": {},
     "output_type": "execute_result"
    }
   ],
   "source": [
    "predicted_proba.shape"
   ]
  },
  {
   "cell_type": "code",
   "execution_count": 53,
   "id": "f70489ec-1c83-4cb5-8c2d-3a7d3d66c301",
   "metadata": {},
   "outputs": [
    {
     "data": {
      "text/plain": [
       "array([0.38344423, 0.10337137, 0.22127637, 0.43375056, 0.51037805,\n",
       "       0.93603684, 0.35242718, 0.68930817, 0.05708731, 0.27876781,\n",
       "       0.09180871, 0.30705972, 0.76172069, 0.51360125, 0.25073505,\n",
       "       0.51737832, 0.0120344 , 0.7829307 , 0.09017243, 0.42299333,\n",
       "       0.31524368, 0.2146818 , 0.32611268, 0.32436514, 0.12020754,\n",
       "       0.84469301, 0.41211182, 0.11876748, 0.197307  , 0.39458146,\n",
       "       0.10008399, 0.14064339, 0.60747528, 0.576746  , 0.2326525 ,\n",
       "       0.72214951, 0.2831744 , 0.14375845, 0.91754528, 0.16187173,\n",
       "       0.52867509, 0.22912904, 0.58329453, 0.12042525, 0.18306164,\n",
       "       0.76245826, 0.85151103, 0.92440964, 0.33839678, 0.11312117,\n",
       "       0.22183471, 0.31841745, 0.46092303, 0.95329652, 0.1504515 ,\n",
       "       0.2330236 , 0.9846773 , 0.27082435, 0.90092207, 0.46843048,\n",
       "       0.60881945, 0.12471553, 0.58244489, 0.69007386, 0.09180871,\n",
       "       0.11309454, 0.68376355, 0.00943598, 0.28237224, 0.48652916,\n",
       "       0.27876781, 0.21574076, 0.76612623, 0.31841745, 0.10653512,\n",
       "       0.68022511, 0.45290725, 0.19239307, 0.22493259, 0.10386674,\n",
       "       0.93603684, 0.93753666, 0.1344244 , 0.189072  , 0.10960161,\n",
       "       0.63740446, 0.19158916, 0.90984476, 0.80638204, 0.31606355,\n",
       "       0.16853237, 0.63593256, 0.32447714, 0.25837594, 0.47296376,\n",
       "       0.91754528, 0.56638435, 0.96744205, 0.64617515, 0.79127661,\n",
       "       0.28904893, 0.70486266, 0.1987276 , 0.82763224, 0.11618888,\n",
       "       0.60099485, 0.8867694 , 0.16187173, 0.10558304, 0.64334681,\n",
       "       0.72014107, 0.61551811, 0.49424825, 0.33667573, 0.76979192,\n",
       "       0.48097714, 0.32846   , 0.93051373, 0.52808977, 0.91795789,\n",
       "       0.25661449, 0.81591676, 0.83633478, 0.76036841, 0.76138605,\n",
       "       0.31450124, 0.1987276 , 0.29342565, 0.70404489, 0.16068755,\n",
       "       0.35014874, 0.33354717, 0.84307224, 0.51656773, 0.33622381,\n",
       "       0.96894268, 0.50843856, 0.62145967, 0.39603214, 0.12095396])"
      ]
     },
     "execution_count": 53,
     "metadata": {},
     "output_type": "execute_result"
    }
   ],
   "source": [
    "# select ONLY the probabilities referring to 1s\n",
    "predicted_proba[:,1]"
   ]
  },
  {
   "cell_type": "markdown",
   "id": "10ca6fba-57f1-42b4-98bd-13978961f112",
   "metadata": {},
   "source": [
    "### 💾 Saving the Trained Model\n",
    "\n",
    "To reuse the trained logistic regression model later (e.g., for deployment or further predictions), we save it using Python’s `pickle` module.\n",
    "\n",
    "This allows us to persist:\n",
    "- The trained logistic regression model\n",
    "- The custom or standard scaler used during preprocessing\n",
    "\n",
    "These files can be loaded later to make predictions on new data without retraining.\n"
   ]
  },
  {
   "cell_type": "code",
   "execution_count": 54,
   "id": "4742cca3-71de-4160-a77a-05f757bb4a84",
   "metadata": {},
   "outputs": [],
   "source": [
    "import pickle\n",
    "\n",
    "# Save the logistic regression model\n",
    "with open('model.pkl', 'wb') as model_file:\n",
    "    pickle.dump(reg, model_file)\n",
    "\n",
    "# Save the scaler used for standardizing inputs\n",
    "with open('scaler.pkl', 'wb') as scaler_file:\n",
    "    pickle.dump(absenteeism_scaler, scaler_file)\n"
   ]
  },
  {
   "cell_type": "code",
   "execution_count": 55,
   "id": "7701754c-75eb-4972-ab37-95e72dd190b3",
   "metadata": {},
   "outputs": [
    {
     "data": {
      "text/html": [
       "<a href='model.pkl' target='_blank'>model.pkl</a><br>"
      ],
      "text/plain": [
       "D:\\BI course\\Absenteeism project\\Final part\\model.pkl"
      ]
     },
     "execution_count": 55,
     "metadata": {},
     "output_type": "execute_result"
    }
   ],
   "source": [
    "from IPython.display import FileLink\n",
    "\n",
    "# Create clickable links to download\n",
    "FileLink('model.pkl')\n"
   ]
  },
  {
   "cell_type": "code",
   "execution_count": 56,
   "id": "2f0c9541-f4fc-42bd-a52c-037a0b539778",
   "metadata": {},
   "outputs": [
    {
     "data": {
      "text/html": [
       "<a href='scaler.pkl' target='_blank'>scaler.pkl</a><br>"
      ],
      "text/plain": [
       "D:\\BI course\\Absenteeism project\\Final part\\scaler.pkl"
      ]
     },
     "execution_count": 56,
     "metadata": {},
     "output_type": "execute_result"
    }
   ],
   "source": [
    "FileLink('scaler.pkl')\n"
   ]
  },
  {
   "cell_type": "markdown",
   "id": "2479ed19-f7de-49d7-9d90-4ab8559cba02",
   "metadata": {},
   "source": [
    "## 💡 Key Insights\n",
    "\n",
    "- No strong predictor of absenteeism time in hours was identified — absenteeism seems multifactorial and noisy.\n",
    "- Logistic regression is a reasonable baseline due to its simplicity and interpretability.\n",
    "- Absenteeism patterns show behavioral trends (e.g., weekend spillovers, checkups on Mondays/Fridays) rather than purely health-related causes."
   ]
  }
 ],
 "metadata": {
  "kernelspec": {
   "display_name": "Python 3 (ipykernel)",
   "language": "python",
   "name": "python3"
  },
  "language_info": {
   "codemirror_mode": {
    "name": "ipython",
    "version": 3
   },
   "file_extension": ".py",
   "mimetype": "text/x-python",
   "name": "python",
   "nbconvert_exporter": "python",
   "pygments_lexer": "ipython3",
   "version": "3.13.3"
  }
 },
 "nbformat": 4,
 "nbformat_minor": 5
}
